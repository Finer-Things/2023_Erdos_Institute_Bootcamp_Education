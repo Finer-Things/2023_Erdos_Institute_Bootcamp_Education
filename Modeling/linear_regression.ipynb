{
 "cells": [
  {
   "cell_type": "code",
   "execution_count": 112,
   "metadata": {},
   "outputs": [],
   "source": [
    "import matplotlib as mpl\n",
    "import math \n",
    "import pandas as pd\n",
    "import seaborn as sns\n",
    "import matplotlib.pyplot as plt\n",
    "import numpy as np"
   ]
  },
  {
   "cell_type": "code",
   "execution_count": 113,
   "metadata": {},
   "outputs": [],
   "source": [
    "df = pd.read_csv(\"../Data/Expendatures Teacher Inexperience Out of Cert and Core Index\").dropna()"
   ]
  },
  {
   "cell_type": "code",
   "execution_count": null,
   "metadata": {},
   "outputs": [],
   "source": [
    "import numpy as np\n",
    "\n",
    "df['log_PER_FED_STATE_LOCAL_EXP'] = np.log(df['PER_FED_STATE_LOCAL_EXP'])"
   ]
  },
  {
   "cell_type": "code",
   "execution_count": null,
   "metadata": {},
   "outputs": [],
   "source": [
    "print(df)"
   ]
  },
  {
   "cell_type": "code",
   "execution_count": null,
   "metadata": {},
   "outputs": [],
   "source": [
    "features = ['log_PER_FED_STATE_LOCAL_EXP', 'PER_TEACH_INEXP', 'PER_OUT_CERT', 'ABSENT_RATE']\n",
    "outcome = \"CORE_INDEX\"\n",
    "#list(df.columns)"
   ]
  },
  {
   "cell_type": "code",
   "execution_count": null,
   "metadata": {},
   "outputs": [],
   "source": [
    "from sklearn.model_selection import train_test_split\n",
    "df_train, df_temp = train_test_split(df[features + [outcome]].copy(), \n",
    "                                     train_size=0.9, \n",
    "                                     random_state=500, \n",
    "                                     shuffle=True\n",
    "                                    )\n",
    "\n",
    "# Split the remaining data into validation and test sets\n",
    "df_val, df_test = train_test_split(df_temp, \n",
    "                                   train_size=0.5,  # Assuming you want half of the remaining data for validation and half for testing\n",
    "                                   random_state=500, \n",
    "                                   shuffle=True\n",
    "                                  )"
   ]
  },
  {
   "cell_type": "code",
   "execution_count": null,
   "metadata": {},
   "outputs": [],
   "source": [
    "# from sklearn.model_selection import KFold\n",
    "# cross_val_info = KFold(n_splits=5, \n",
    "#                        shuffle=True, \n",
    "#                        random_state=500\n",
    "#                        )\n",
    "# cross_val_info.split(df_train)"
   ]
  },
  {
   "cell_type": "code",
   "execution_count": null,
   "metadata": {},
   "outputs": [],
   "source": [
    "from sklearn.linear_model import LinearRegression\n",
    "linreg = LinearRegression()\n",
    "linreg.fit(X=df_train[features], \n",
    "           y=df_train[outcome])"
   ]
  },
  {
   "cell_type": "code",
   "execution_count": null,
   "metadata": {},
   "outputs": [],
   "source": [
    "from sklearn.linear_model import LinearRegression\n",
    "from sklearn.metrics import mean_absolute_error, mean_squared_error, r2_score\n",
    "import numpy as np\n",
    "\n",
    "# Make predictions on the training set\n",
    "predictions = linreg.predict(df_train[features])\n",
    "\n",
    "# Calculate evaluation metrics\n",
    "mae = mean_absolute_error(df_train[outcome], predictions)\n",
    "mse = mean_squared_error(df_train[outcome], predictions)\n",
    "rmse = np.sqrt(mse)\n",
    "r2 = r2_score(df_train[outcome], predictions)\n",
    "\n",
    "# Print the results\n",
    "print(f'Mean Absolute Error (MAE): {mae}')\n",
    "print(f'Mean Squared Error (MSE): {mse}')\n",
    "print(f'Root Mean Squared Error (RMSE): {rmse}')\n",
    "print(f'R-squared (R²): {r2}')\n"
   ]
  },
  {
   "cell_type": "code",
   "execution_count": null,
   "metadata": {},
   "outputs": [],
   "source": [
    "y_train_pred = linreg.predict(df_train[features])\n",
    "y_test_pred = linreg.predict(df_test[features])"
   ]
  },
  {
   "cell_type": "code",
   "execution_count": null,
   "metadata": {},
   "outputs": [],
   "source": [
    "y_train_pred"
   ]
  },
  {
   "cell_type": "code",
   "execution_count": null,
   "metadata": {},
   "outputs": [],
   "source": [
    "y_test_pred"
   ]
  },
  {
   "cell_type": "code",
   "execution_count": null,
   "metadata": {},
   "outputs": [],
   "source": [
    "# Assuming df_test is your test dataset\n",
    "predictions_test = linreg.predict(df_test[features])\n",
    "\n",
    "# Create a DataFrame with actual and predicted values for the test set\n",
    "scatter_df_test = pd.DataFrame({\n",
    "    'Actual': df_test[outcome],\n",
    "    'Predicted': predictions_test,\n",
    "    'log_PER_FED_STATE_LOCAL_EXP': df_test['log_PER_FED_STATE_LOCAL_EXP'],\n",
    "    'PER_TEACH_INEXP': df_test['PER_TEACH_INEXP'],\n",
    "    'PER_OUT_CERT': df_test['PER_OUT_CERT'],\n",
    "    'CORE_INDEX': df_test['CORE_INDEX']\n",
    "})\n",
    "\n",
    "# Compare predictions on the training set and the test set\n",
    "for feature in features:\n",
    "    figure, axes = plt.subplots(1, 2, figsize=(20, 8), sharey=True)\n",
    "    figure.suptitle(clean_label(feature), fontsize=26)\n",
    "\n",
    "    # Scatter plot for training set actual and predicted data points\n",
    "    sns.scatterplot(data=scatter_df, x=feature, y='Actual', label='Training Set - Actual', ax=axes[0])\n",
    "    sns.scatterplot(data=scatter_df, x=feature, y='Predicted', label='Training Set - Predicted', ax=axes[0], color=\"darkorange\")\n",
    "\n",
    "    # Scatter plot for test set actual and predicted data points\n",
    "    sns.scatterplot(data=scatter_df_test, x=feature, y='Actual', label='Test Set - Actual', ax=axes[1])\n",
    "    sns.scatterplot(data=scatter_df_test, x=feature, y='Predicted', label='Test Set - Predicted', ax=axes[1], color=\"darkorange\")\n",
    "\n",
    "    axes[0].set_title(\"Training Set - Actual vs Predicted\")\n",
    "    axes[1].set_title(\"Test Set - Actual vs Predicted\")\n",
    "\n",
    "    plt.show()\n"
   ]
  },
  {
   "cell_type": "code",
   "execution_count": null,
   "metadata": {},
   "outputs": [],
   "source": [
    "df_train[outcome]"
   ]
  },
  {
   "cell_type": "code",
   "execution_count": null,
   "metadata": {},
   "outputs": [],
   "source": [
    "linreg.coef_"
   ]
  },
  {
   "cell_type": "code",
   "execution_count": null,
   "metadata": {},
   "outputs": [],
   "source": [
    "df[features+[outcome]].corr()"
   ]
  },
  {
   "cell_type": "code",
   "execution_count": null,
   "metadata": {},
   "outputs": [],
   "source": [
    "df_train[\"pred\"] = y_train_pred"
   ]
  },
  {
   "cell_type": "code",
   "execution_count": null,
   "metadata": {},
   "outputs": [],
   "source": [
    "## Creating a dataframe with predictions in addition to actual outcomes for a scatter plot\n",
    "scatter_df_top = df_train[features+[outcome]]\n",
    "scatter_df_top[\"Source\"] = \"Actual\"\n",
    "\n",
    "scatter_df_bottom = df_train[features+[\"pred\"]]\n",
    "scatter_df_bottom[\"Source\"] = \"Prediction\"\n",
    "scatter_df_bottom.rename({\"pred\": outcome}, axis=\"columns\", inplace=True)\n",
    "\n",
    "## Concatonating\n",
    "scatter_df = pd.concat([scatter_df_top, scatter_df_bottom])\n"
   ]
  },
  {
   "cell_type": "code",
   "execution_count": null,
   "metadata": {},
   "outputs": [],
   "source": [
    "scatter_df.sample(10)"
   ]
  },
  {
   "cell_type": "code",
   "execution_count": null,
   "metadata": {},
   "outputs": [],
   "source": [
    "def clean_label(label):\n",
    "    return label.replace(\"_\", \" \").title()\n",
    "\n",
    "for feature in features:\n",
    "    figure, axes = plt.subplots(1,3,  figsize=(25, 8), sharey=True)\n",
    "    figure.suptitle(clean_label(feature), fontsize=26)\n",
    "\n",
    "    sns.scatterplot(scatter_df, x=feature, y=outcome, hue=\"Source\", ax=axes[0])\n",
    "    sns.regplot(scatter_df.loc[scatter_df[\"Source\"] == \"Actual\"], x=feature, y=outcome, ax=axes[1])\n",
    "    sns.regplot(scatter_df.loc[scatter_df[\"Source\"] == \"Prediction\"], x=feature, y=outcome, ax=axes[2], color=\"darkorange\")\n",
    "    \n",
    "    plt.show()"
   ]
  },
  {
   "cell_type": "code",
   "execution_count": null,
   "metadata": {},
   "outputs": [],
   "source": [
    "# Assuming df_test is your test dataset\n",
    "predictions_test = linreg.predict(df_test[features])\n",
    "\n",
    "# Create a DataFrame with actual and predicted values for the test set\n",
    "scatter_df_test = pd.DataFrame({\n",
    "    'Actual': df_test[outcome],\n",
    "    'Predicted': predictions_test,\n",
    "    'log_PER_FED_STATE_LOCAL_EXP': df_test['log_PER_FED_STATE_LOCAL_EXP'],\n",
    "    'PER_TEACH_INEXP': df_test['PER_TEACH_INEXP'],\n",
    "    'PER_OUT_CERT': df_test['PER_OUT_CERT'],\n",
    "    'CORE_INDEX': df_test['CORE_INDEX']\n",
    "})\n",
    "\n",
    "# Compare predictions on the training set and the test set\n",
    "for feature in features:\n",
    "    figure, axes = plt.subplots(1, 2, figsize=(20, 8), sharey=True)\n",
    "    figure.suptitle(clean_label(feature), fontsize=26)\n",
    "\n",
    "    # Scatter plot for training set actual and predicted data points\n",
    "    sns.scatterplot(data=scatter_df, x=feature, y='Actual', label='Training Set - Actual', ax=axes[0])\n",
    "    sns.scatterplot(data=scatter_df, x=feature, y='Predicted', label='Training Set - Predicted', ax=axes[0], color=\"darkorange\")\n",
    "\n",
    "    # Scatter plot for test set actual and predicted data points\n",
    "    sns.scatterplot(data=scatter_df_test, x=feature, y='Actual', label='Test Set - Actual', ax=axes[1])\n",
    "    sns.scatterplot(data=scatter_df_test, x=feature, y='Predicted', label='Test Set - Predicted', ax=axes[1], color=\"darkorange\")\n",
    "\n",
    "    axes[0].set_title(\"Training Set - Actual vs Predicted\")\n",
    "    axes[1].set_title(\"Test Set - Actual vs Predicted\")\n",
    "\n",
    "    plt.show()\n"
   ]
  },
  {
   "cell_type": "code",
   "execution_count": null,
   "metadata": {},
   "outputs": [],
   "source": [
    "from sklearn.preprocessing import PolynomialFeatures\n",
    "from sklearn.pipeline import make_pipeline\n",
    "from sklearn.linear_model import LinearRegression\n",
    "\n",
    "# Assuming df_train is your training dataset and features, outcome are defined\n",
    "features = ['log_PER_FED_STATE_LOCAL_EXP', 'PER_TEACH_INEXP', 'PER_OUT_CERT']\n",
    "outcome = \"CORE_INDEX\"\n",
    "\n",
    "# Create a polynomial regression model (degree = 2, you can change it)\n",
    "degree = 5\n",
    "polyreg = make_pipeline(PolynomialFeatures(degree), LinearRegression())\n",
    "\n",
    "# Fit the model\n",
    "polyreg.fit(df_train[features], df_train[outcome])\n",
    "\n",
    "# Make predictions on the training set\n",
    "predictions_poly = polyreg.predict(df_train[features])\n"
   ]
  },
  {
   "cell_type": "code",
   "execution_count": null,
   "metadata": {},
   "outputs": [],
   "source": [
    "from sklearn.linear_model import LinearRegression\n",
    "from sklearn.metrics import mean_absolute_error, mean_squared_error, r2_score\n",
    "import numpy as np\n",
    "\n",
    "# Make predictions on the training set\n",
    "polyreg_predictions = polyreg.predict(df_train[features])\n",
    "\n",
    "# Calculate evaluation metrics\n",
    "mae = mean_absolute_error(df_train[outcome], polyreg_predictions)\n",
    "mse = mean_squared_error(df_train[outcome], polyreg_predictions)\n",
    "rmse = np.sqrt(mse)\n",
    "r2 = r2_score(df_train[outcome], polyreg_predictions)\n",
    "\n",
    "# Print the results\n",
    "print(f'Mean Absolute Error (MAE): {mae}')\n",
    "print(f'Mean Squared Error (MSE): {mse}')\n",
    "print(f'Root Mean Squared Error (RMSE): {rmse}')\n",
    "print(f'R-squared (R²): {r2}')\n"
   ]
  },
  {
   "cell_type": "code",
   "execution_count": null,
   "metadata": {},
   "outputs": [],
   "source": [
    "# Create a DataFrame with actual and predicted values\n",
    "scatter_df = pd.DataFrame({\n",
    "    'Actual': df_train[outcome],\n",
    "    'Predicted': predictions_poly,\n",
    "    'log_PER_FED_STATE_LOCAL_EXP': df_train['log_PER_FED_STATE_LOCAL_EXP'],\n",
    "    'PER_TEACH_INEXP': df_train['PER_TEACH_INEXP'],\n",
    "    'PER_OUT_CERT': df_train['PER_OUT_CERT'],\n",
    "    'CORE_INDEX': df_train['CORE_INDEX']\n",
    "})\n",
    "\n",
    "for feature in features:\n",
    "    figure, axes = plt.subplots(1, 3, figsize=(25, 8), sharey=True)\n",
    "    figure.suptitle(clean_label(feature), fontsize=26)\n",
    "\n",
    "    # Scatter plot for actual and predicted data points overlapped\n",
    "    sns.scatterplot(data=scatter_df, x=feature, y='Actual', label='Actual', ax=axes[0])\n",
    "    sns.scatterplot(data=scatter_df, x=feature, y='Predicted', label='Predicted', ax=axes[0], color=\"darkorange\")\n",
    "    axes[0].set_title(\"Actual and Predicted Data\")\n",
    "\n",
    "    # Scatter plot for actual data points with regression line\n",
    "    sns.regplot(data=scatter_df, x=feature, y='Actual', ax=axes[1])\n",
    "    axes[1].set_title(\"Actual Data with Regression Line\")\n",
    "\n",
    "    # Scatter plot for predicted data points with regression line\n",
    "    sns.regplot(data=scatter_df, x=feature, y='Predicted', ax=axes[2], color=\"darkorange\")\n",
    "    axes[2].set_title(\"Predicted Data with Regression Line\")\n",
    "\n",
    "    plt.show()\n"
   ]
  }
 ],
 "metadata": {
  "kernelspec": {
   "display_name": "Python 3",
   "language": "python",
   "name": "python3"
  },
  "language_info": {
   "codemirror_mode": {
    "name": "ipython",
    "version": 3
   },
   "file_extension": ".py",
   "mimetype": "text/x-python",
   "name": "python",
   "nbconvert_exporter": "python",
   "pygments_lexer": "ipython3",
   "version": "3.8.8"
  }
 },
 "nbformat": 4,
 "nbformat_minor": 2
}
