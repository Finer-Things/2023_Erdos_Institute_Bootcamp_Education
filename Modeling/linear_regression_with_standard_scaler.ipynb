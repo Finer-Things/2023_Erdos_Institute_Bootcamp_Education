{
 "cells": [
  {
   "cell_type": "code",
   "execution_count": 1,
   "metadata": {},
   "outputs": [],
   "source": [
    "import matplotlib as mpl\n",
    "import math \n",
    "import pandas as pd\n",
    "import seaborn as sns\n",
    "import matplotlib.pyplot as plt\n",
    "import numpy as np"
   ]
  },
  {
   "cell_type": "code",
   "execution_count": 20,
   "metadata": {},
   "outputs": [],
   "source": [
    "df = pd.read_csv(\"../Data/Expendatures Teacher Inexperience Out of Cert and Core Index\").dropna()"
   ]
  },
  {
   "cell_type": "code",
   "execution_count": 39,
   "metadata": {},
   "outputs": [
    {
     "data": {
      "text/plain": [
       "['Unnamed: 0',\n",
       " 'ENTITY_NAME',\n",
       " 'ENTITY_CD',\n",
       " 'PER_FED_STATE_LOCAL_EXP',\n",
       " 'PER_TEACH_INEXP',\n",
       " 'PER_OUT_CERT',\n",
       " 'INSTITUTION_ID',\n",
       " 'CORE_INDEX',\n",
       " 'SUBJECT',\n",
       " 'SCHOOL_TYPE']"
      ]
     },
     "execution_count": 39,
     "metadata": {},
     "output_type": "execute_result"
    }
   ],
   "source": [
    "features = ['PER_FED_STATE_LOCAL_EXP', 'PER_TEACH_INEXP', 'PER_OUT_CERT']\n",
    "outcome = \"CORE_INDEX\"\n",
    "list(df.columns)"
   ]
  },
  {
   "cell_type": "code",
   "execution_count": 22,
   "metadata": {},
   "outputs": [
    {
     "data": {
      "text/html": [
       "<div>\n",
       "<style scoped>\n",
       "    .dataframe tbody tr th:only-of-type {\n",
       "        vertical-align: middle;\n",
       "    }\n",
       "\n",
       "    .dataframe tbody tr th {\n",
       "        vertical-align: top;\n",
       "    }\n",
       "\n",
       "    .dataframe thead th {\n",
       "        text-align: right;\n",
       "    }\n",
       "</style>\n",
       "<table border=\"1\" class=\"dataframe\">\n",
       "  <thead>\n",
       "    <tr style=\"text-align: right;\">\n",
       "      <th></th>\n",
       "      <th>Unnamed: 0</th>\n",
       "      <th>ENTITY_NAME</th>\n",
       "      <th>ENTITY_CD</th>\n",
       "      <th>PER_FED_STATE_LOCAL_EXP</th>\n",
       "      <th>PER_TEACH_INEXP</th>\n",
       "      <th>PER_OUT_CERT</th>\n",
       "      <th>INSTITUTION_ID</th>\n",
       "      <th>CORE_INDEX</th>\n",
       "      <th>SUBJECT</th>\n",
       "      <th>SCHOOL_TYPE</th>\n",
       "    </tr>\n",
       "  </thead>\n",
       "  <tbody>\n",
       "    <tr>\n",
       "      <th>3242</th>\n",
       "      <td>3242</td>\n",
       "      <td>INSTITUTE OF TECH-SYRACUSE CENTRAL</td>\n",
       "      <td>421800010047</td>\n",
       "      <td>13880.0</td>\n",
       "      <td>13.0</td>\n",
       "      <td>20.0</td>\n",
       "      <td>800000040860</td>\n",
       "      <td>144.1</td>\n",
       "      <td>Combined</td>\n",
       "      <td>HS</td>\n",
       "    </tr>\n",
       "    <tr>\n",
       "      <th>4241</th>\n",
       "      <td>4241</td>\n",
       "      <td>PAIGE ELEMENTARY SCHOOL</td>\n",
       "      <td>530600010013</td>\n",
       "      <td>14624.0</td>\n",
       "      <td>3.0</td>\n",
       "      <td>0.0</td>\n",
       "      <td>800000038403</td>\n",
       "      <td>73.4</td>\n",
       "      <td>Combined</td>\n",
       "      <td>EM</td>\n",
       "    </tr>\n",
       "    <tr>\n",
       "      <th>3592</th>\n",
       "      <td>3592</td>\n",
       "      <td>GEORGE GRANT MASON ELEMENTARY</td>\n",
       "      <td>441903020002</td>\n",
       "      <td>36667.0</td>\n",
       "      <td>0.0</td>\n",
       "      <td>0.0</td>\n",
       "      <td>800000040173</td>\n",
       "      <td>177.5</td>\n",
       "      <td>Combined</td>\n",
       "      <td>EM</td>\n",
       "    </tr>\n",
       "    <tr>\n",
       "      <th>3628</th>\n",
       "      <td>3628</td>\n",
       "      <td>PS 159</td>\n",
       "      <td>342600010159</td>\n",
       "      <td>17528.0</td>\n",
       "      <td>24.0</td>\n",
       "      <td>0.0</td>\n",
       "      <td>800000043065</td>\n",
       "      <td>192.5</td>\n",
       "      <td>Combined</td>\n",
       "      <td>EM</td>\n",
       "    </tr>\n",
       "    <tr>\n",
       "      <th>3682</th>\n",
       "      <td>3682</td>\n",
       "      <td>JHS 226 VIRGIL I GRISSOM</td>\n",
       "      <td>342700010226</td>\n",
       "      <td>16811.0</td>\n",
       "      <td>53.0</td>\n",
       "      <td>13.0</td>\n",
       "      <td>800000042936</td>\n",
       "      <td>94.6</td>\n",
       "      <td>Combined</td>\n",
       "      <td>EM</td>\n",
       "    </tr>\n",
       "    <tr>\n",
       "      <th>4107</th>\n",
       "      <td>4107</td>\n",
       "      <td>CLINTON SENIOR HIGH SCHOOL</td>\n",
       "      <td>411101060005</td>\n",
       "      <td>12158.0</td>\n",
       "      <td>10.0</td>\n",
       "      <td>7.0</td>\n",
       "      <td>800000041446</td>\n",
       "      <td>182.5</td>\n",
       "      <td>Combined</td>\n",
       "      <td>HS</td>\n",
       "    </tr>\n",
       "    <tr>\n",
       "      <th>1238</th>\n",
       "      <td>1238</td>\n",
       "      <td>THOMAS HIGH SCHOOL</td>\n",
       "      <td>261901060015</td>\n",
       "      <td>11461.0</td>\n",
       "      <td>12.0</td>\n",
       "      <td>0.0</td>\n",
       "      <td>800000050711</td>\n",
       "      <td>163.3</td>\n",
       "      <td>Combined</td>\n",
       "      <td>HS</td>\n",
       "    </tr>\n",
       "    <tr>\n",
       "      <th>794</th>\n",
       "      <td>794</td>\n",
       "      <td>PS 84</td>\n",
       "      <td>140600010084</td>\n",
       "      <td>52974.0</td>\n",
       "      <td>0.0</td>\n",
       "      <td>24.0</td>\n",
       "      <td>800000052917</td>\n",
       "      <td>126.0</td>\n",
       "      <td>Combined</td>\n",
       "      <td>EM</td>\n",
       "    </tr>\n",
       "    <tr>\n",
       "      <th>4296</th>\n",
       "      <td>4296</td>\n",
       "      <td>BRADFORD CENTRAL SCHOOL</td>\n",
       "      <td>570401040001</td>\n",
       "      <td>17278.0</td>\n",
       "      <td>32.0</td>\n",
       "      <td>0.0</td>\n",
       "      <td>800000037997</td>\n",
       "      <td>177.4</td>\n",
       "      <td>Combined</td>\n",
       "      <td>HS</td>\n",
       "    </tr>\n",
       "    <tr>\n",
       "      <th>2072</th>\n",
       "      <td>2072</td>\n",
       "      <td>BROOKLYN PREPARATORY HS</td>\n",
       "      <td>331400011488</td>\n",
       "      <td>15437.0</td>\n",
       "      <td>39.0</td>\n",
       "      <td>10.0</td>\n",
       "      <td>800000057989</td>\n",
       "      <td>159.8</td>\n",
       "      <td>Combined</td>\n",
       "      <td>HS</td>\n",
       "    </tr>\n",
       "  </tbody>\n",
       "</table>\n",
       "</div>"
      ],
      "text/plain": [
       "      Unnamed: 0                         ENTITY_NAME     ENTITY_CD  \\\n",
       "3242        3242  INSTITUTE OF TECH-SYRACUSE CENTRAL  421800010047   \n",
       "4241        4241             PAIGE ELEMENTARY SCHOOL  530600010013   \n",
       "3592        3592       GEORGE GRANT MASON ELEMENTARY  441903020002   \n",
       "3628        3628                              PS 159  342600010159   \n",
       "3682        3682            JHS 226 VIRGIL I GRISSOM  342700010226   \n",
       "4107        4107          CLINTON SENIOR HIGH SCHOOL  411101060005   \n",
       "1238        1238                  THOMAS HIGH SCHOOL  261901060015   \n",
       "794          794                               PS 84  140600010084   \n",
       "4296        4296             BRADFORD CENTRAL SCHOOL  570401040001   \n",
       "2072        2072             BROOKLYN PREPARATORY HS  331400011488   \n",
       "\n",
       "      PER_FED_STATE_LOCAL_EXP  PER_TEACH_INEXP  PER_OUT_CERT  INSTITUTION_ID  \\\n",
       "3242                  13880.0             13.0          20.0    800000040860   \n",
       "4241                  14624.0              3.0           0.0    800000038403   \n",
       "3592                  36667.0              0.0           0.0    800000040173   \n",
       "3628                  17528.0             24.0           0.0    800000043065   \n",
       "3682                  16811.0             53.0          13.0    800000042936   \n",
       "4107                  12158.0             10.0           7.0    800000041446   \n",
       "1238                  11461.0             12.0           0.0    800000050711   \n",
       "794                   52974.0              0.0          24.0    800000052917   \n",
       "4296                  17278.0             32.0           0.0    800000037997   \n",
       "2072                  15437.0             39.0          10.0    800000057989   \n",
       "\n",
       "      CORE_INDEX   SUBJECT SCHOOL_TYPE  \n",
       "3242       144.1  Combined          HS  \n",
       "4241        73.4  Combined          EM  \n",
       "3592       177.5  Combined          EM  \n",
       "3628       192.5  Combined          EM  \n",
       "3682        94.6  Combined          EM  \n",
       "4107       182.5  Combined          HS  \n",
       "1238       163.3  Combined          HS  \n",
       "794        126.0  Combined          EM  \n",
       "4296       177.4  Combined          HS  \n",
       "2072       159.8  Combined          HS  "
      ]
     },
     "execution_count": 22,
     "metadata": {},
     "output_type": "execute_result"
    }
   ],
   "source": [
    "df.sample(10)"
   ]
  },
  {
   "cell_type": "code",
   "execution_count": 23,
   "metadata": {},
   "outputs": [],
   "source": [
    "from sklearn.model_selection import train_test_split\n",
    "df_train, df_val = train_test_split(df, \n",
    "                                     train_size = .9, \n",
    "                                     random_state=500, \n",
    "                                     shuffle=True\n",
    "                                     )\n"
   ]
  },
  {
   "cell_type": "code",
   "execution_count": 24,
   "metadata": {},
   "outputs": [],
   "source": [
    "# from sklearn.model_selection import KFold\n",
    "# cross_val_info = KFold(n_splits=5, \n",
    "#                        shuffle=True, \n",
    "#                        random_state=500\n",
    "#                        )\n",
    "# cross_val_info.split(df_train)"
   ]
  },
  {
   "cell_type": "code",
   "execution_count": 30,
   "metadata": {},
   "outputs": [
    {
     "data": {
      "text/html": [
       "<style>#sk-container-id-2 {color: black;}#sk-container-id-2 pre{padding: 0;}#sk-container-id-2 div.sk-toggleable {background-color: white;}#sk-container-id-2 label.sk-toggleable__label {cursor: pointer;display: block;width: 100%;margin-bottom: 0;padding: 0.3em;box-sizing: border-box;text-align: center;}#sk-container-id-2 label.sk-toggleable__label-arrow:before {content: \"▸\";float: left;margin-right: 0.25em;color: #696969;}#sk-container-id-2 label.sk-toggleable__label-arrow:hover:before {color: black;}#sk-container-id-2 div.sk-estimator:hover label.sk-toggleable__label-arrow:before {color: black;}#sk-container-id-2 div.sk-toggleable__content {max-height: 0;max-width: 0;overflow: hidden;text-align: left;background-color: #f0f8ff;}#sk-container-id-2 div.sk-toggleable__content pre {margin: 0.2em;color: black;border-radius: 0.25em;background-color: #f0f8ff;}#sk-container-id-2 input.sk-toggleable__control:checked~div.sk-toggleable__content {max-height: 200px;max-width: 100%;overflow: auto;}#sk-container-id-2 input.sk-toggleable__control:checked~label.sk-toggleable__label-arrow:before {content: \"▾\";}#sk-container-id-2 div.sk-estimator input.sk-toggleable__control:checked~label.sk-toggleable__label {background-color: #d4ebff;}#sk-container-id-2 div.sk-label input.sk-toggleable__control:checked~label.sk-toggleable__label {background-color: #d4ebff;}#sk-container-id-2 input.sk-hidden--visually {border: 0;clip: rect(1px 1px 1px 1px);clip: rect(1px, 1px, 1px, 1px);height: 1px;margin: -1px;overflow: hidden;padding: 0;position: absolute;width: 1px;}#sk-container-id-2 div.sk-estimator {font-family: monospace;background-color: #f0f8ff;border: 1px dotted black;border-radius: 0.25em;box-sizing: border-box;margin-bottom: 0.5em;}#sk-container-id-2 div.sk-estimator:hover {background-color: #d4ebff;}#sk-container-id-2 div.sk-parallel-item::after {content: \"\";width: 100%;border-bottom: 1px solid gray;flex-grow: 1;}#sk-container-id-2 div.sk-label:hover label.sk-toggleable__label {background-color: #d4ebff;}#sk-container-id-2 div.sk-serial::before {content: \"\";position: absolute;border-left: 1px solid gray;box-sizing: border-box;top: 0;bottom: 0;left: 50%;z-index: 0;}#sk-container-id-2 div.sk-serial {display: flex;flex-direction: column;align-items: center;background-color: white;padding-right: 0.2em;padding-left: 0.2em;position: relative;}#sk-container-id-2 div.sk-item {position: relative;z-index: 1;}#sk-container-id-2 div.sk-parallel {display: flex;align-items: stretch;justify-content: center;background-color: white;position: relative;}#sk-container-id-2 div.sk-item::before, #sk-container-id-2 div.sk-parallel-item::before {content: \"\";position: absolute;border-left: 1px solid gray;box-sizing: border-box;top: 0;bottom: 0;left: 50%;z-index: -1;}#sk-container-id-2 div.sk-parallel-item {display: flex;flex-direction: column;z-index: 1;position: relative;background-color: white;}#sk-container-id-2 div.sk-parallel-item:first-child::after {align-self: flex-end;width: 50%;}#sk-container-id-2 div.sk-parallel-item:last-child::after {align-self: flex-start;width: 50%;}#sk-container-id-2 div.sk-parallel-item:only-child::after {width: 0;}#sk-container-id-2 div.sk-dashed-wrapped {border: 1px dashed gray;margin: 0 0.4em 0.5em 0.4em;box-sizing: border-box;padding-bottom: 0.4em;background-color: white;}#sk-container-id-2 div.sk-label label {font-family: monospace;font-weight: bold;display: inline-block;line-height: 1.2em;}#sk-container-id-2 div.sk-label-container {text-align: center;}#sk-container-id-2 div.sk-container {/* jupyter's `normalize.less` sets `[hidden] { display: none; }` but bootstrap.min.css set `[hidden] { display: none !important; }` so we also need the `!important` here to be able to override the default hidden behavior on the sphinx rendered scikit-learn.org. See: https://github.com/scikit-learn/scikit-learn/issues/21755 */display: inline-block !important;position: relative;}#sk-container-id-2 div.sk-text-repr-fallback {display: none;}</style><div id=\"sk-container-id-2\" class=\"sk-top-container\"><div class=\"sk-text-repr-fallback\"><pre>LinearRegression()</pre><b>In a Jupyter environment, please rerun this cell to show the HTML representation or trust the notebook. <br />On GitHub, the HTML representation is unable to render, please try loading this page with nbviewer.org.</b></div><div class=\"sk-container\" hidden><div class=\"sk-item\"><div class=\"sk-estimator sk-toggleable\"><input class=\"sk-toggleable__control sk-hidden--visually\" id=\"sk-estimator-id-2\" type=\"checkbox\" checked><label for=\"sk-estimator-id-2\" class=\"sk-toggleable__label sk-toggleable__label-arrow\">LinearRegression</label><div class=\"sk-toggleable__content\"><pre>LinearRegression()</pre></div></div></div></div></div>"
      ],
      "text/plain": [
       "LinearRegression()"
      ]
     },
     "execution_count": 30,
     "metadata": {},
     "output_type": "execute_result"
    }
   ],
   "source": [
    "from sklearn.linear_model import LinearRegression\n",
    "linreg = LinearRegression()\n",
    "linreg.fit(X=df_train[features], \n",
    "           y=df_train[outcome])"
   ]
  },
  {
   "cell_type": "code",
   "execution_count": 32,
   "metadata": {},
   "outputs": [],
   "source": [
    "y_train_pred = linreg.predict(df_train[features])"
   ]
  },
  {
   "cell_type": "code",
   "execution_count": 33,
   "metadata": {},
   "outputs": [
    {
     "data": {
      "text/plain": [
       "array([144.03522896, 139.79051967, 127.6886875 , ..., 140.97297716,\n",
       "       111.20786104, 127.64771692])"
      ]
     },
     "execution_count": 33,
     "metadata": {},
     "output_type": "execute_result"
    }
   ],
   "source": [
    "y_train_pred"
   ]
  },
  {
   "cell_type": "code",
   "execution_count": 35,
   "metadata": {},
   "outputs": [
    {
     "data": {
      "text/plain": [
       "826     124.6\n",
       "4651    193.3\n",
       "2986     73.5\n",
       "4472    125.5\n",
       "1923     81.1\n",
       "        ...  \n",
       "3076     71.3\n",
       "3872    213.0\n",
       "273      94.5\n",
       "3990    159.7\n",
       "968     102.1\n",
       "Name: CORE_INDEX, Length: 4351, dtype: float64"
      ]
     },
     "execution_count": 35,
     "metadata": {},
     "output_type": "execute_result"
    }
   ],
   "source": [
    "df_train[outcome]"
   ]
  },
  {
   "cell_type": "code",
   "execution_count": 36,
   "metadata": {},
   "outputs": [
    {
     "data": {
      "text/plain": [
       "array([-0.00057005, -0.44116668, -0.25220643])"
      ]
     },
     "execution_count": 36,
     "metadata": {},
     "output_type": "execute_result"
    }
   ],
   "source": [
    "linreg.coef_"
   ]
  },
  {
   "cell_type": "code",
   "execution_count": 40,
   "metadata": {},
   "outputs": [
    {
     "data": {
      "text/html": [
       "<div>\n",
       "<style scoped>\n",
       "    .dataframe tbody tr th:only-of-type {\n",
       "        vertical-align: middle;\n",
       "    }\n",
       "\n",
       "    .dataframe tbody tr th {\n",
       "        vertical-align: top;\n",
       "    }\n",
       "\n",
       "    .dataframe thead th {\n",
       "        text-align: right;\n",
       "    }\n",
       "</style>\n",
       "<table border=\"1\" class=\"dataframe\">\n",
       "  <thead>\n",
       "    <tr style=\"text-align: right;\">\n",
       "      <th></th>\n",
       "      <th>PER_FED_STATE_LOCAL_EXP</th>\n",
       "      <th>PER_TEACH_INEXP</th>\n",
       "      <th>PER_OUT_CERT</th>\n",
       "      <th>CORE_INDEX</th>\n",
       "    </tr>\n",
       "  </thead>\n",
       "  <tbody>\n",
       "    <tr>\n",
       "      <th>PER_FED_STATE_LOCAL_EXP</th>\n",
       "      <td>1.000000</td>\n",
       "      <td>0.211480</td>\n",
       "      <td>0.109818</td>\n",
       "      <td>-0.129200</td>\n",
       "    </tr>\n",
       "    <tr>\n",
       "      <th>PER_TEACH_INEXP</th>\n",
       "      <td>0.211480</td>\n",
       "      <td>1.000000</td>\n",
       "      <td>0.408357</td>\n",
       "      <td>-0.240017</td>\n",
       "    </tr>\n",
       "    <tr>\n",
       "      <th>PER_OUT_CERT</th>\n",
       "      <td>0.109818</td>\n",
       "      <td>0.408357</td>\n",
       "      <td>1.000000</td>\n",
       "      <td>-0.171328</td>\n",
       "    </tr>\n",
       "    <tr>\n",
       "      <th>CORE_INDEX</th>\n",
       "      <td>-0.129200</td>\n",
       "      <td>-0.240017</td>\n",
       "      <td>-0.171328</td>\n",
       "      <td>1.000000</td>\n",
       "    </tr>\n",
       "  </tbody>\n",
       "</table>\n",
       "</div>"
      ],
      "text/plain": [
       "                         PER_FED_STATE_LOCAL_EXP  PER_TEACH_INEXP  \\\n",
       "PER_FED_STATE_LOCAL_EXP                 1.000000         0.211480   \n",
       "PER_TEACH_INEXP                         0.211480         1.000000   \n",
       "PER_OUT_CERT                            0.109818         0.408357   \n",
       "CORE_INDEX                             -0.129200        -0.240017   \n",
       "\n",
       "                         PER_OUT_CERT  CORE_INDEX  \n",
       "PER_FED_STATE_LOCAL_EXP      0.109818   -0.129200  \n",
       "PER_TEACH_INEXP              0.408357   -0.240017  \n",
       "PER_OUT_CERT                 1.000000   -0.171328  \n",
       "CORE_INDEX                  -0.171328    1.000000  "
      ]
     },
     "execution_count": 40,
     "metadata": {},
     "output_type": "execute_result"
    }
   ],
   "source": [
    "df[features+[outcome]].corr()"
   ]
  }
 ],
 "metadata": {
  "kernelspec": {
   "display_name": "Python 3",
   "language": "python",
   "name": "python3"
  },
  "language_info": {
   "codemirror_mode": {
    "name": "ipython",
    "version": 3
   },
   "file_extension": ".py",
   "mimetype": "text/x-python",
   "name": "python",
   "nbconvert_exporter": "python",
   "pygments_lexer": "ipython3",
   "version": "3.12.0"
  }
 },
 "nbformat": 4,
 "nbformat_minor": 2
}
