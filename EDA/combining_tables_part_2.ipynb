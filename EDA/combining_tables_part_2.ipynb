{
 "cells": [
  {
   "cell_type": "code",
   "execution_count": 1,
   "metadata": {},
   "outputs": [],
   "source": [
    "import pandas as pd\n",
    "import matplotlib as mpl\n",
    "import matplotlib.pyplot as plt\n",
    "import seaborn as sns\n",
    "import numpy as np"
   ]
  },
  {
   "cell_type": "markdown",
   "metadata": {},
   "source": [
    "### Creating the Dataframes"
   ]
  },
  {
   "cell_type": "code",
   "execution_count": 2,
   "metadata": {},
   "outputs": [],
   "source": [
    "df_epp = pd.read_excel(\"../Data/SRC2022/Expenditures Per Pupil.xlsx\")\n",
    "df_nxp = pd.read_excel(\"../Data/SRC2022/Inexperienced Teachers and Principals.xlsx\")\n",
    "df_ocert = pd.read_excel(\"../Data/SRC2022/Teachers Teaching Out of Certification.xlsx\")\n",
    "df_y = pd.read_excel(\"../Data/SRC2022/Annual Regents Exams.xlsx\")"
   ]
  },
  {
   "cell_type": "markdown",
   "metadata": {},
   "source": [
    "### Trimming Dataframes\n",
    "#### Defining a Trimming Function"
   ]
  },
  {
   "cell_type": "code",
   "execution_count": 3,
   "metadata": {},
   "outputs": [],
   "source": [
    "def trimmer(df: pd.DataFrame, *column_names, year: int=2022, year_col_name: str=\"YEAR\")->pd.DataFrame:\n",
    "    \"\"\"\n",
    "    Keeps only the columns specified, only the rows whose year agrees with the year argument, \n",
    "    and if there is a SUBGROUP column then it keeps only rows with the subgroup classification \n",
    "    of \"All Students\". \n",
    "    This is NOT an in-place method. \n",
    "    \"\"\"\n",
    "    # Trimming Rows\n",
    "    if year_col_name in df.columns:\n",
    "        df = df.loc[df[year_col_name]==year]\n",
    "    if \"SUBGROUP\" in df.columns:\n",
    "        df = df.loc[df[\"SUBGROUP\"]==\"All Students\"] #<-----This drops all rows that do not have \"All Students\" as the \"SUBGROUP\" column entry. \n",
    "    # Trimming Columns\n",
    "    return df[list(column_names)]"
   ]
  },
  {
   "cell_type": "markdown",
   "metadata": {},
   "source": [
    "### Applying the Trimming Function and Pivoting the Annual Regents Exams Table so each school has one row. "
   ]
  },
  {
   "cell_type": "code",
   "execution_count": 25,
   "metadata": {},
   "outputs": [],
   "source": [
    "# Expenditures Per Pupil: Keep only rows with the year 2021 and keeping only school ID, Name and Normalized Expenditures\n",
    "df_epp_t = trimmer(df_epp,'ENTITY_NAME', 'PER_FED_STATE_LOCAL_EXP', year=2022)\n",
    "df_nxp_t = trimmer(df_nxp,'ENTITY_NAME', 'PER_TEACH_INEXP', year=2022)\n",
    "df_ocert_t = trimmer(df_ocert,'ENTITY_NAME', \"PER_OUT_CERT\", year=2022)\n",
    "df_y_t = trimmer(df_y.loc[df_y.ENTITY_CD%10000 != 0],'ENTITY_NAME', 'SUBJECT', \"PER_PROF\", year=2022)\n",
    "df_y_t = df_y_t.loc[df_y.SUBJECT.isin(['Regents Common Core Algebra I', 'Regents Common Core English Language Art', 'Regents Phy Set/Earth Sci'])]\n",
    "# df_y_t = df_y_t.pivot_table(index=['ENTITY_NAME'], \n",
    "#                             values=[\"PER_PROF\"], \n",
    "#                             columns=[\"SUBJECT\"], \n",
    "#                             aggfunc=\"first\"\n",
    "#                             )"
   ]
  },
  {
   "cell_type": "markdown",
   "metadata": {},
   "source": [
    "### Merging the Tables"
   ]
  },
  {
   "cell_type": "code",
   "execution_count": 29,
   "metadata": {},
   "outputs": [],
   "source": [
    "from functools import reduce\n",
    "\n",
    "trimmed_data_frames = [df_epp_t, df_nxp_t, df_ocert_t, df_y_t]\n",
    "df = reduce(lambda  left_df, right_df: pd.merge(left_df, right_df, on='ENTITY_NAME',\n",
    "                                            how='inner'\n",
    "                                            ), \n",
    "            trimmed_data_frames)"
   ]
  },
  {
   "cell_type": "code",
   "execution_count": 32,
   "metadata": {},
   "outputs": [
    {
     "data": {
      "text/html": [
       "<div>\n",
       "<style scoped>\n",
       "    .dataframe tbody tr th:only-of-type {\n",
       "        vertical-align: middle;\n",
       "    }\n",
       "\n",
       "    .dataframe tbody tr th {\n",
       "        vertical-align: top;\n",
       "    }\n",
       "\n",
       "    .dataframe thead tr th {\n",
       "        text-align: left;\n",
       "    }\n",
       "\n",
       "    .dataframe thead tr:last-of-type th {\n",
       "        text-align: right;\n",
       "    }\n",
       "</style>\n",
       "<table border=\"1\" class=\"dataframe\">\n",
       "  <thead>\n",
       "    <tr>\n",
       "      <th></th>\n",
       "      <th colspan=\"3\" halign=\"left\">PER_PROF</th>\n",
       "    </tr>\n",
       "    <tr>\n",
       "      <th>SUBJECT</th>\n",
       "      <th>Regents Common Core Algebra I</th>\n",
       "      <th>Regents Common Core English Language Art</th>\n",
       "      <th>Regents Phy Set/Earth Sci</th>\n",
       "    </tr>\n",
       "    <tr>\n",
       "      <th>ENTITY_NAME</th>\n",
       "      <th></th>\n",
       "      <th></th>\n",
       "      <th></th>\n",
       "    </tr>\n",
       "  </thead>\n",
       "  <tbody>\n",
       "    <tr>\n",
       "      <th>A A KINGSTON MIDDLE SCHOOL</th>\n",
       "      <td>100</td>\n",
       "      <td>NaN</td>\n",
       "      <td>NaN</td>\n",
       "    </tr>\n",
       "    <tr>\n",
       "      <th>A D OLIVER MIDDLE SCHOOL</th>\n",
       "      <td>100</td>\n",
       "      <td>NaN</td>\n",
       "      <td>100</td>\n",
       "    </tr>\n",
       "    <tr>\n",
       "      <th>A F PALMER ES / WINDSOR CENTRAL MS</th>\n",
       "      <td>100</td>\n",
       "      <td>NaN</td>\n",
       "      <td>NaN</td>\n",
       "    </tr>\n",
       "    <tr>\n",
       "      <th>A M COSGROVE MIDDLE SCHOOL</th>\n",
       "      <td>100</td>\n",
       "      <td>NaN</td>\n",
       "      <td>100</td>\n",
       "    </tr>\n",
       "    <tr>\n",
       "      <th>A MACARTHUR BARR MS</th>\n",
       "      <td>100</td>\n",
       "      <td>NaN</td>\n",
       "      <td>100</td>\n",
       "    </tr>\n",
       "  </tbody>\n",
       "</table>\n",
       "</div>"
      ],
      "text/plain": [
       "                                                        PER_PROF  \\\n",
       "SUBJECT                            Regents Common Core Algebra I   \n",
       "ENTITY_NAME                                                        \n",
       "A A KINGSTON MIDDLE SCHOOL                                   100   \n",
       "A D OLIVER MIDDLE SCHOOL                                     100   \n",
       "A F PALMER ES / WINDSOR CENTRAL MS                           100   \n",
       "A M COSGROVE MIDDLE SCHOOL                                   100   \n",
       "A MACARTHUR BARR MS                                          100   \n",
       "\n",
       "                                                                             \\\n",
       "SUBJECT                            Regents Common Core English Language Art   \n",
       "ENTITY_NAME                                                                   \n",
       "A A KINGSTON MIDDLE SCHOOL                                              NaN   \n",
       "A D OLIVER MIDDLE SCHOOL                                                NaN   \n",
       "A F PALMER ES / WINDSOR CENTRAL MS                                      NaN   \n",
       "A M COSGROVE MIDDLE SCHOOL                                              NaN   \n",
       "A MACARTHUR BARR MS                                                     NaN   \n",
       "\n",
       "                                                              \n",
       "SUBJECT                            Regents Phy Set/Earth Sci  \n",
       "ENTITY_NAME                                                   \n",
       "A A KINGSTON MIDDLE SCHOOL                               NaN  \n",
       "A D OLIVER MIDDLE SCHOOL                                 100  \n",
       "A F PALMER ES / WINDSOR CENTRAL MS                       NaN  \n",
       "A M COSGROVE MIDDLE SCHOOL                               100  \n",
       "A MACARTHUR BARR MS                                      100  "
      ]
     },
     "execution_count": 32,
     "metadata": {},
     "output_type": "execute_result"
    }
   ],
   "source": [
    "df_p = df.pivot_table(index=['ENTITY_NAME'], \n",
    "                            values=[\"PER_PROF\"], \n",
    "                            columns=[\"SUBJECT\"], \n",
    "                            aggfunc=\"first\"\n",
    "                            )\n",
    "df_p.head()"
   ]
  },
  {
   "cell_type": "code",
   "execution_count": 37,
   "metadata": {},
   "outputs": [
    {
     "data": {
      "text/plain": [
       "ENTITY_NAME\n",
       "WEST MIDDLE SCHOOL                1026\n",
       "EAST MIDDLE SCHOOL                 837\n",
       "JOHN F KENNEDY MIDDLE SCHOOL       384\n",
       "BEACON HIGH SCHOOL                  96\n",
       "IROQUOIS MIDDLE SCHOOL              81\n",
       "                                  ... \n",
       "HARLEM RENAISSANCE HIGH SCHOOL       1\n",
       "MONROE LOWER SCHOOL                  1\n",
       "GREAT NECK NORTH HIGH SCHOOL         1\n",
       "IRWIN ALTMAN MIDDLE SCHOOL 172       1\n",
       "LYONS MIDDLE SCHOOL                  1\n",
       "Name: count, Length: 1982, dtype: int64"
      ]
     },
     "execution_count": 37,
     "metadata": {},
     "output_type": "execute_result"
    }
   ],
   "source": [
    "df.ENTITY_NAME.value_counts()"
   ]
  },
  {
   "cell_type": "code",
   "execution_count": 24,
   "metadata": {},
   "outputs": [
    {
     "ename": "MergeError",
     "evalue": "Not allowed to merge between different levels. (1 levels on the left, 2 on the right)",
     "output_type": "error",
     "traceback": [
      "\u001b[1;31m---------------------------------------------------------------------------\u001b[0m",
      "\u001b[1;31mMergeError\u001b[0m                                Traceback (most recent call last)",
      "\u001b[1;32mc:\\Users\\natha\\OneDrive\\O-D Documents\\Python Stuff\\Erdos Institute\\Group Project\\2023_Erdos_Institute_Bootcamp_Education\\EDA\\combining_tables_part_2.ipynb Cell 10\u001b[0m line \u001b[0;36m1\n\u001b[0;32m      <a href='vscode-notebook-cell:/c%3A/Users/natha/OneDrive/O-D%20Documents/Python%20Stuff/Erdos%20Institute/Group%20Project/2023_Erdos_Institute_Bootcamp_Education/EDA/combining_tables_part_2.ipynb#X24sZmlsZQ%3D%3D?line=0'>1</a>\u001b[0m df_first_two \u001b[39m=\u001b[39m pd\u001b[39m.\u001b[39mmerge(df_epp_t, \n\u001b[0;32m      <a href='vscode-notebook-cell:/c%3A/Users/natha/OneDrive/O-D%20Documents/Python%20Stuff/Erdos%20Institute/Group%20Project/2023_Erdos_Institute_Bootcamp_Education/EDA/combining_tables_part_2.ipynb#X24sZmlsZQ%3D%3D?line=1'>2</a>\u001b[0m                         df_nxp_t, \n\u001b[0;32m      <a href='vscode-notebook-cell:/c%3A/Users/natha/OneDrive/O-D%20Documents/Python%20Stuff/Erdos%20Institute/Group%20Project/2023_Erdos_Institute_Bootcamp_Education/EDA/combining_tables_part_2.ipynb#X24sZmlsZQ%3D%3D?line=2'>3</a>\u001b[0m                         on\u001b[39m=\u001b[39m\u001b[39m'\u001b[39m\u001b[39mENTITY_NAME\u001b[39m\u001b[39m'\u001b[39m, \n\u001b[0;32m      <a href='vscode-notebook-cell:/c%3A/Users/natha/OneDrive/O-D%20Documents/Python%20Stuff/Erdos%20Institute/Group%20Project/2023_Erdos_Institute_Bootcamp_Education/EDA/combining_tables_part_2.ipynb#X24sZmlsZQ%3D%3D?line=3'>4</a>\u001b[0m                         how\u001b[39m=\u001b[39m\u001b[39m\"\u001b[39m\u001b[39minner\u001b[39m\u001b[39m\"\u001b[39m\n\u001b[0;32m      <a href='vscode-notebook-cell:/c%3A/Users/natha/OneDrive/O-D%20Documents/Python%20Stuff/Erdos%20Institute/Group%20Project/2023_Erdos_Institute_Bootcamp_Education/EDA/combining_tables_part_2.ipynb#X24sZmlsZQ%3D%3D?line=4'>5</a>\u001b[0m                         )\n\u001b[0;32m      <a href='vscode-notebook-cell:/c%3A/Users/natha/OneDrive/O-D%20Documents/Python%20Stuff/Erdos%20Institute/Group%20Project/2023_Erdos_Institute_Bootcamp_Education/EDA/combining_tables_part_2.ipynb#X24sZmlsZQ%3D%3D?line=5'>6</a>\u001b[0m df_next_two \u001b[39m=\u001b[39m pd\u001b[39m.\u001b[39mmerge(df_first_two, \n\u001b[0;32m      <a href='vscode-notebook-cell:/c%3A/Users/natha/OneDrive/O-D%20Documents/Python%20Stuff/Erdos%20Institute/Group%20Project/2023_Erdos_Institute_Bootcamp_Education/EDA/combining_tables_part_2.ipynb#X24sZmlsZQ%3D%3D?line=6'>7</a>\u001b[0m                        df_ocert_t, \n\u001b[0;32m      <a href='vscode-notebook-cell:/c%3A/Users/natha/OneDrive/O-D%20Documents/Python%20Stuff/Erdos%20Institute/Group%20Project/2023_Erdos_Institute_Bootcamp_Education/EDA/combining_tables_part_2.ipynb#X24sZmlsZQ%3D%3D?line=7'>8</a>\u001b[0m                         on\u001b[39m=\u001b[39m\u001b[39m'\u001b[39m\u001b[39mENTITY_NAME\u001b[39m\u001b[39m'\u001b[39m, \n\u001b[0;32m      <a href='vscode-notebook-cell:/c%3A/Users/natha/OneDrive/O-D%20Documents/Python%20Stuff/Erdos%20Institute/Group%20Project/2023_Erdos_Institute_Bootcamp_Education/EDA/combining_tables_part_2.ipynb#X24sZmlsZQ%3D%3D?line=8'>9</a>\u001b[0m                         how\u001b[39m=\u001b[39m\u001b[39m\"\u001b[39m\u001b[39minner\u001b[39m\u001b[39m\"\u001b[39m\n\u001b[0;32m     <a href='vscode-notebook-cell:/c%3A/Users/natha/OneDrive/O-D%20Documents/Python%20Stuff/Erdos%20Institute/Group%20Project/2023_Erdos_Institute_Bootcamp_Education/EDA/combining_tables_part_2.ipynb#X24sZmlsZQ%3D%3D?line=9'>10</a>\u001b[0m                         )\n\u001b[1;32m---> <a href='vscode-notebook-cell:/c%3A/Users/natha/OneDrive/O-D%20Documents/Python%20Stuff/Erdos%20Institute/Group%20Project/2023_Erdos_Institute_Bootcamp_Education/EDA/combining_tables_part_2.ipynb#X24sZmlsZQ%3D%3D?line=10'>11</a>\u001b[0m df \u001b[39m=\u001b[39m pd\u001b[39m.\u001b[39;49mmerge(df_next_two, \n\u001b[0;32m     <a href='vscode-notebook-cell:/c%3A/Users/natha/OneDrive/O-D%20Documents/Python%20Stuff/Erdos%20Institute/Group%20Project/2023_Erdos_Institute_Bootcamp_Education/EDA/combining_tables_part_2.ipynb#X24sZmlsZQ%3D%3D?line=11'>12</a>\u001b[0m                        df_y_t, \n\u001b[0;32m     <a href='vscode-notebook-cell:/c%3A/Users/natha/OneDrive/O-D%20Documents/Python%20Stuff/Erdos%20Institute/Group%20Project/2023_Erdos_Institute_Bootcamp_Education/EDA/combining_tables_part_2.ipynb#X24sZmlsZQ%3D%3D?line=12'>13</a>\u001b[0m                         on\u001b[39m=\u001b[39;49m\u001b[39m'\u001b[39;49m\u001b[39mENTITY_NAME\u001b[39;49m\u001b[39m'\u001b[39;49m, \n\u001b[0;32m     <a href='vscode-notebook-cell:/c%3A/Users/natha/OneDrive/O-D%20Documents/Python%20Stuff/Erdos%20Institute/Group%20Project/2023_Erdos_Institute_Bootcamp_Education/EDA/combining_tables_part_2.ipynb#X24sZmlsZQ%3D%3D?line=13'>14</a>\u001b[0m                         how\u001b[39m=\u001b[39;49m\u001b[39m\"\u001b[39;49m\u001b[39minner\u001b[39;49m\u001b[39m\"\u001b[39;49m\n\u001b[0;32m     <a href='vscode-notebook-cell:/c%3A/Users/natha/OneDrive/O-D%20Documents/Python%20Stuff/Erdos%20Institute/Group%20Project/2023_Erdos_Institute_Bootcamp_Education/EDA/combining_tables_part_2.ipynb#X24sZmlsZQ%3D%3D?line=14'>15</a>\u001b[0m                         )\n",
      "File \u001b[1;32mc:\\Users\\natha\\AppData\\Local\\Programs\\Python\\Python312\\Lib\\site-packages\\pandas\\core\\reshape\\merge.py:169\u001b[0m, in \u001b[0;36mmerge\u001b[1;34m(left, right, how, on, left_on, right_on, left_index, right_index, sort, suffixes, copy, indicator, validate)\u001b[0m\n\u001b[0;32m    154\u001b[0m     \u001b[39mreturn\u001b[39;00m _cross_merge(\n\u001b[0;32m    155\u001b[0m         left_df,\n\u001b[0;32m    156\u001b[0m         right_df,\n\u001b[1;32m   (...)\u001b[0m\n\u001b[0;32m    166\u001b[0m         copy\u001b[39m=\u001b[39mcopy,\n\u001b[0;32m    167\u001b[0m     )\n\u001b[0;32m    168\u001b[0m \u001b[39melse\u001b[39;00m:\n\u001b[1;32m--> 169\u001b[0m     op \u001b[39m=\u001b[39m _MergeOperation(\n\u001b[0;32m    170\u001b[0m         left_df,\n\u001b[0;32m    171\u001b[0m         right_df,\n\u001b[0;32m    172\u001b[0m         how\u001b[39m=\u001b[39;49mhow,\n\u001b[0;32m    173\u001b[0m         on\u001b[39m=\u001b[39;49mon,\n\u001b[0;32m    174\u001b[0m         left_on\u001b[39m=\u001b[39;49mleft_on,\n\u001b[0;32m    175\u001b[0m         right_on\u001b[39m=\u001b[39;49mright_on,\n\u001b[0;32m    176\u001b[0m         left_index\u001b[39m=\u001b[39;49mleft_index,\n\u001b[0;32m    177\u001b[0m         right_index\u001b[39m=\u001b[39;49mright_index,\n\u001b[0;32m    178\u001b[0m         sort\u001b[39m=\u001b[39;49msort,\n\u001b[0;32m    179\u001b[0m         suffixes\u001b[39m=\u001b[39;49msuffixes,\n\u001b[0;32m    180\u001b[0m         indicator\u001b[39m=\u001b[39;49mindicator,\n\u001b[0;32m    181\u001b[0m         validate\u001b[39m=\u001b[39;49mvalidate,\n\u001b[0;32m    182\u001b[0m     )\n\u001b[0;32m    183\u001b[0m     \u001b[39mreturn\u001b[39;00m op\u001b[39m.\u001b[39mget_result(copy\u001b[39m=\u001b[39mcopy)\n",
      "File \u001b[1;32mc:\\Users\\natha\\AppData\\Local\\Programs\\Python\\Python312\\Lib\\site-packages\\pandas\\core\\reshape\\merge.py:781\u001b[0m, in \u001b[0;36m_MergeOperation.__init__\u001b[1;34m(self, left, right, how, on, left_on, right_on, left_index, right_index, sort, suffixes, indicator, validate)\u001b[0m\n\u001b[0;32m    775\u001b[0m \u001b[39mif\u001b[39;00m _left\u001b[39m.\u001b[39mcolumns\u001b[39m.\u001b[39mnlevels \u001b[39m!=\u001b[39m _right\u001b[39m.\u001b[39mcolumns\u001b[39m.\u001b[39mnlevels:\n\u001b[0;32m    776\u001b[0m     msg \u001b[39m=\u001b[39m (\n\u001b[0;32m    777\u001b[0m         \u001b[39m\"\u001b[39m\u001b[39mNot allowed to merge between different levels. \u001b[39m\u001b[39m\"\u001b[39m\n\u001b[0;32m    778\u001b[0m         \u001b[39mf\u001b[39m\u001b[39m\"\u001b[39m\u001b[39m(\u001b[39m\u001b[39m{\u001b[39;00m_left\u001b[39m.\u001b[39mcolumns\u001b[39m.\u001b[39mnlevels\u001b[39m}\u001b[39;00m\u001b[39m levels on the left, \u001b[39m\u001b[39m\"\u001b[39m\n\u001b[0;32m    779\u001b[0m         \u001b[39mf\u001b[39m\u001b[39m\"\u001b[39m\u001b[39m{\u001b[39;00m_right\u001b[39m.\u001b[39mcolumns\u001b[39m.\u001b[39mnlevels\u001b[39m}\u001b[39;00m\u001b[39m on the right)\u001b[39m\u001b[39m\"\u001b[39m\n\u001b[0;32m    780\u001b[0m     )\n\u001b[1;32m--> 781\u001b[0m     \u001b[39mraise\u001b[39;00m MergeError(msg)\n\u001b[0;32m    783\u001b[0m \u001b[39mself\u001b[39m\u001b[39m.\u001b[39mleft_on, \u001b[39mself\u001b[39m\u001b[39m.\u001b[39mright_on \u001b[39m=\u001b[39m \u001b[39mself\u001b[39m\u001b[39m.\u001b[39m_validate_left_right_on(left_on, right_on)\n\u001b[0;32m    785\u001b[0m (\n\u001b[0;32m    786\u001b[0m     \u001b[39mself\u001b[39m\u001b[39m.\u001b[39mleft_join_keys,\n\u001b[0;32m    787\u001b[0m     \u001b[39mself\u001b[39m\u001b[39m.\u001b[39mright_join_keys,\n\u001b[1;32m   (...)\u001b[0m\n\u001b[0;32m    790\u001b[0m     right_drop,\n\u001b[0;32m    791\u001b[0m ) \u001b[39m=\u001b[39m \u001b[39mself\u001b[39m\u001b[39m.\u001b[39m_get_merge_keys()\n",
      "\u001b[1;31mMergeError\u001b[0m: Not allowed to merge between different levels. (1 levels on the left, 2 on the right)"
     ]
    }
   ],
   "source": [
    "# df_first_two = pd.merge(df_epp_t, \n",
    "#                         df_nxp_t, \n",
    "#                         on='ENTITY_NAME', \n",
    "#                         how=\"inner\"\n",
    "#                         )\n",
    "# df_next_two = pd.merge(df_first_two, \n",
    "#                        df_ocert_t, \n",
    "#                         on='ENTITY_NAME', \n",
    "#                         how=\"inner\"\n",
    "#                         )\n",
    "# df = pd.merge(df_next_two, \n",
    "#                        df_y_t, \n",
    "#                         on='ENTITY_NAME', \n",
    "#                         how=\"inner\"\n",
    "#                         )\n",
    "\n"
   ]
  }
 ],
 "metadata": {
  "kernelspec": {
   "display_name": "Python 3",
   "language": "python",
   "name": "python3"
  },
  "language_info": {
   "codemirror_mode": {
    "name": "ipython",
    "version": 3
   },
   "file_extension": ".py",
   "mimetype": "text/x-python",
   "name": "python",
   "nbconvert_exporter": "python",
   "pygments_lexer": "ipython3",
   "version": "3.12.0"
  }
 },
 "nbformat": 4,
 "nbformat_minor": 2
}
