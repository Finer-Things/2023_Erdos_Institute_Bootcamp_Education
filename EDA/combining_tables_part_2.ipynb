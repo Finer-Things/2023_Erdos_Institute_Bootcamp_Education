{
 "cells": [
  {
   "cell_type": "code",
   "execution_count": 1,
   "metadata": {},
   "outputs": [],
   "source": [
    "import pandas as pd\n",
    "import matplotlib as mpl\n",
    "import matplotlib.pyplot as plt\n",
    "import seaborn as sns\n",
    "import numpy as np"
   ]
  },
  {
   "cell_type": "markdown",
   "metadata": {},
   "source": [
    "### Set Global Variables and Create Dataframes"
   ]
  },
  {
   "cell_type": "markdown",
   "metadata": {},
   "source": [
    "Dataframe Name | Table Name\n",
    "| --- | --- |\n",
    "df_epp | Expenditures Per Pupil\n",
    "df_nxp | Inexperienced Teachers and Principals\n",
    "df_ocert | Teachers Teaching Out of Certification\n",
    "df_y | Annual Regents Exams"
   ]
  },
  {
   "cell_type": "code",
   "execution_count": null,
   "metadata": {},
   "outputs": [],
   "source": [
    "df_epp = pd.read_excel(\"../Data/SRC2022/Expenditures Per Pupil.xlsx\")\n",
    "df_nxp = pd.read_excel(\"../Data/SRC2022/Inexperienced Teachers and Principals.xlsx\")\n",
    "df_ocert = pd.read_excel(\"../Data/SRC2022/Teachers Teaching Out of Certification.xlsx\")\n",
    "df_y = pd.read_excel(\"../Data/SRC2022/Annual Regents Exams.xlsx\")"
   ]
  },
  {
   "cell_type": "markdown",
   "metadata": {},
   "source": [
    "Variable Name | Meaning\n",
    "| --- | --- |\n",
    "chosen_test_subjects | The Annual Regents Exams we plan to use to measure school performance"
   ]
  },
  {
   "cell_type": "code",
   "execution_count": 18,
   "metadata": {},
   "outputs": [],
   "source": [
    "chosen_test_subjects = ('Regents Common Core Algebra I', 'Regents Common Core English Language Art', 'Regents Phy Set/Earth Sci')"
   ]
  },
  {
   "cell_type": "markdown",
   "metadata": {},
   "source": [
    "### Trimming Dataframes\n",
    "#### Defining a Trimming Function that will only keep the columns we wish and only keep the rows that have our desired YEAR and SUBGROUP_NAME of \"All Students\""
   ]
  },
  {
   "cell_type": "code",
   "execution_count": 33,
   "metadata": {},
   "outputs": [],
   "source": [
    "def trimmer(df: pd.DataFrame, *column_names, year: int=2021, year_col_name: str=\"YEAR\")->pd.DataFrame:\n",
    "    \"\"\"\n",
    "    Keeps only the columns specified, only the rows whose year agrees with the year argument, \n",
    "    and if there is a SUBGROUP column then it keeps only rows with the subgroup classification \n",
    "    of \"All Students\". \n",
    "    This is NOT an in-place method. \n",
    "    \"\"\"\n",
    "    # Trimming Rows\n",
    "    if year_col_name in df.columns:\n",
    "        df = df.loc[df[year_col_name]==year]\n",
    "    if \"SUBGROUP_NAME\" in df.columns:\n",
    "        df = df.loc[df[\"SUBGROUP_NAME\"]==\"All Students\"] #<-----This drops all rows that do not have \"All Students\" as the \"SUBGROUP\" column entry. \n",
    "    if \"SUBJECT\" in df.columns:\n",
    "        df = df.loc[df.SUBJECT.isin(chosen_test_subjects)]\n",
    "    # Trimming Columns\n",
    "    return df[list(column_names)]"
   ]
  },
  {
   "cell_type": "markdown",
   "metadata": {},
   "source": [
    "Note that we no longer have to look for ENTITY_CD ENTRIES that don't end in 0000."
   ]
  },
  {
   "cell_type": "markdown",
   "metadata": {},
   "source": [
    "#### Applying the Trimming Function"
   ]
  },
  {
   "cell_type": "code",
   "execution_count": 44,
   "metadata": {},
   "outputs": [],
   "source": [
    "# Expenditures Per Pupil: Keep only rows with the year 2021 and keeping only school ID, Name and Normalized Expenditures\n",
    "df_epp_t = trimmer(df_epp,'ENTITY_NAME', 'ENTITY_CD', 'PER_FED_STATE_LOCAL_EXP')\n",
    "df_nxp_t = trimmer(df_nxp,'ENTITY_CD', 'PER_TEACH_INEXP')\n",
    "df_ocert_t = trimmer(df_ocert,'ENTITY_CD', \"PER_OUT_CERT\")\n",
    "\n",
    "# df_y: Drop NaN values and make INSTITUTION_ID a string\n",
    "df_y_c = df_y.dropna(subset=['INSTITUTION_ID'], ignore_index=True)\n",
    "\n",
    "# df_y: Trim and Pivot\n",
    "df_y_t = trimmer(df_y_c, 'INSTITUTION_ID', 'ENTITY_CD', 'ENTITY_NAME', 'SUBJECT', \"PER_PROF\")\n"
   ]
  },
  {
   "cell_type": "markdown",
   "metadata": {},
   "source": [
    "We had a lot of trouble with pivoting before. Now, hopefully the code all works well and we can just pivot. \n",
    "#### Checking for duplicates. "
   ]
  },
  {
   "cell_type": "code",
   "execution_count": 35,
   "metadata": {},
   "outputs": [
    {
     "data": {
      "text/plain": [
       "ENTITY_CD\n",
       "211103040000    3\n",
       "261600860985    3\n",
       "220909040010    3\n",
       "211701040001    3\n",
       "211103040001    3\n",
       "               ..\n",
       "310200010177    1\n",
       "310200010167    1\n",
       "310200010131    1\n",
       "310200010126    1\n",
       "671002040001    1\n",
       "Name: count, Length: 429, dtype: int64"
      ]
     },
     "execution_count": 35,
     "metadata": {},
     "output_type": "execute_result"
    }
   ],
   "source": [
    "df_y_t.ENTITY_CD.value_counts()"
   ]
  },
  {
   "cell_type": "markdown",
   "metadata": {},
   "source": [
    "Success! We have at most 3 instances for each ENTITY_CD, one for each type of exam we decided on. "
   ]
  },
  {
   "cell_type": "markdown",
   "metadata": {},
   "source": [
    "But if we look on the row of the last cell, it says \"Length: <font color='red'><del>218</del></font> 429\". So there are only <font color='red'><del>218</del></font> 429 values. That means there are only <font color='red'><del>218</del></font> 429 schools in the list now. We get the same number when using the INSTITUTION_ID column, so it's not the choice of id:"
   ]
  },
  {
   "cell_type": "code",
   "execution_count": 36,
   "metadata": {},
   "outputs": [
    {
     "data": {
      "text/plain": [
       "429"
      ]
     },
     "execution_count": 36,
     "metadata": {},
     "output_type": "execute_result"
    }
   ],
   "source": [
    "len(df_y_t.INSTITUTION_ID.unique())"
   ]
  },
  {
   "cell_type": "markdown",
   "metadata": {},
   "source": [
    "But if we go back to the original Regents Exams Dataframe, we get almost 3,000 schools. Does this mean that 90% of these didn't have an exam entry for our matching tests? "
   ]
  },
  {
   "cell_type": "code",
   "execution_count": 16,
   "metadata": {},
   "outputs": [
    {
     "data": {
      "text/plain": [
       "ENTITY_CD\n",
       "60601040000     214\n",
       "60601040003     212\n",
       "62901040000     195\n",
       "62901040002     195\n",
       "10100860907     193\n",
       "               ... \n",
       "320900010323      1\n",
       "320900010328      1\n",
       "261600010045      1\n",
       "331700011524      1\n",
       "342400010113      1\n",
       "Name: count, Length: 2974, dtype: int64"
      ]
     },
     "execution_count": 16,
     "metadata": {},
     "output_type": "execute_result"
    }
   ],
   "source": [
    "df_y.ENTITY_CD.value_counts()"
   ]
  },
  {
   "cell_type": "markdown",
   "metadata": {},
   "source": [
    "#### Pivoting the exam results"
   ]
  },
  {
   "cell_type": "code",
   "execution_count": 45,
   "metadata": {},
   "outputs": [],
   "source": [
    "df_y_t = df_y_t.pivot(index=['ENTITY_CD'], \n",
    "                            values=[\"PER_PROF\"], \n",
    "                            columns=[\"SUBJECT\"]\n",
    "                            )"
   ]
  },
  {
   "cell_type": "markdown",
   "metadata": {},
   "source": [
    "And we can see that the table pivots with no trouble, yay! "
   ]
  },
  {
   "cell_type": "code",
   "execution_count": 51,
   "metadata": {},
   "outputs": [
    {
     "data": {
      "text/html": [
       "<div>\n",
       "<style scoped>\n",
       "    .dataframe tbody tr th:only-of-type {\n",
       "        vertical-align: middle;\n",
       "    }\n",
       "\n",
       "    .dataframe tbody tr th {\n",
       "        vertical-align: top;\n",
       "    }\n",
       "\n",
       "    .dataframe thead tr th {\n",
       "        text-align: left;\n",
       "    }\n",
       "\n",
       "    .dataframe thead tr:last-of-type th {\n",
       "        text-align: right;\n",
       "    }\n",
       "</style>\n",
       "<table border=\"1\" class=\"dataframe\">\n",
       "  <thead>\n",
       "    <tr>\n",
       "      <th></th>\n",
       "      <th colspan=\"3\" halign=\"left\">PER_PROF</th>\n",
       "    </tr>\n",
       "    <tr>\n",
       "      <th>SUBJECT</th>\n",
       "      <th>Regents Common Core Algebra I</th>\n",
       "      <th>Regents Common Core English Language Art</th>\n",
       "      <th>Regents Phy Set/Earth Sci</th>\n",
       "    </tr>\n",
       "    <tr>\n",
       "      <th>ENTITY_CD</th>\n",
       "      <th></th>\n",
       "      <th></th>\n",
       "      <th></th>\n",
       "    </tr>\n",
       "  </thead>\n",
       "  <tbody>\n",
       "    <tr>\n",
       "      <th>10100860907</th>\n",
       "      <td>40</td>\n",
       "      <td>70</td>\n",
       "      <td>00</td>\n",
       "    </tr>\n",
       "    <tr>\n",
       "      <th>10615020000</th>\n",
       "      <td>100</td>\n",
       "      <td>NaN</td>\n",
       "      <td>100</td>\n",
       "    </tr>\n",
       "    <tr>\n",
       "      <th>10615020001</th>\n",
       "      <td>100</td>\n",
       "      <td>NaN</td>\n",
       "      <td>100</td>\n",
       "    </tr>\n",
       "    <tr>\n",
       "      <th>10623060006</th>\n",
       "      <td>s</td>\n",
       "      <td>NaN</td>\n",
       "      <td>NaN</td>\n",
       "    </tr>\n",
       "    <tr>\n",
       "      <th>10623060007</th>\n",
       "      <td>s</td>\n",
       "      <td>NaN</td>\n",
       "      <td>NaN</td>\n",
       "    </tr>\n",
       "  </tbody>\n",
       "</table>\n",
       "</div>"
      ],
      "text/plain": [
       "                                 PER_PROF  \\\n",
       "SUBJECT     Regents Common Core Algebra I   \n",
       "ENTITY_CD                                   \n",
       "10100860907                            40   \n",
       "10615020000                           100   \n",
       "10615020001                           100   \n",
       "10623060006                             s   \n",
       "10623060007                             s   \n",
       "\n",
       "                                                                                \n",
       "SUBJECT     Regents Common Core English Language Art Regents Phy Set/Earth Sci  \n",
       "ENTITY_CD                                                                       \n",
       "10100860907                                       70                        00  \n",
       "10615020000                                      NaN                       100  \n",
       "10615020001                                      NaN                       100  \n",
       "10623060006                                      NaN                       NaN  \n",
       "10623060007                                      NaN                       NaN  "
      ]
     },
     "execution_count": 51,
     "metadata": {},
     "output_type": "execute_result"
    }
   ],
   "source": [
    "df_y_t.head()"
   ]
  },
  {
   "cell_type": "markdown",
   "metadata": {},
   "source": [
    "### Merging the Tables"
   ]
  },
  {
   "cell_type": "code",
   "execution_count": 47,
   "metadata": {},
   "outputs": [
    {
     "name": "stdout",
     "output_type": "stream",
     "text": [
      "Initializing\n",
      "Initializing\n",
      "Initializing\n"
     ]
    },
    {
     "ename": "MergeError",
     "evalue": "Not allowed to merge between different levels. (1 levels on the left, 2 on the right)",
     "output_type": "error",
     "traceback": [
      "\u001b[1;31m---------------------------------------------------------------------------\u001b[0m",
      "\u001b[1;31mMergeError\u001b[0m                                Traceback (most recent call last)",
      "\u001b[1;32mc:\\Users\\natha\\OneDrive\\O-D Documents\\Python Stuff\\Erdos Institute\\Group Project\\2023_Erdos_Institute_Bootcamp_Education\\EDA\\combining_tables_part_2.ipynb Cell 24\u001b[0m line \u001b[0;36m9\n\u001b[0;32m      <a href='vscode-notebook-cell:/c%3A/Users/natha/OneDrive/O-D%20Documents/Python%20Stuff/Erdos%20Institute/Group%20Project/2023_Erdos_Institute_Bootcamp_Education/EDA/combining_tables_part_2.ipynb#X25sZmlsZQ%3D%3D?line=4'>5</a>\u001b[0m     \u001b[39mprint\u001b[39m(\u001b[39m\"\u001b[39m\u001b[39mInitializing\u001b[39m\u001b[39m\"\u001b[39m)\n\u001b[0;32m      <a href='vscode-notebook-cell:/c%3A/Users/natha/OneDrive/O-D%20Documents/Python%20Stuff/Erdos%20Institute/Group%20Project/2023_Erdos_Institute_Bootcamp_Education/EDA/combining_tables_part_2.ipynb#X25sZmlsZQ%3D%3D?line=5'>6</a>\u001b[0m     \u001b[39mreturn\u001b[39;00m pd\u001b[39m.\u001b[39mmerge(left_df, right_df, on\u001b[39m=\u001b[39m\u001b[39m'\u001b[39m\u001b[39mENTITY_CD\u001b[39m\u001b[39m'\u001b[39m,\n\u001b[0;32m      <a href='vscode-notebook-cell:/c%3A/Users/natha/OneDrive/O-D%20Documents/Python%20Stuff/Erdos%20Institute/Group%20Project/2023_Erdos_Institute_Bootcamp_Education/EDA/combining_tables_part_2.ipynb#X25sZmlsZQ%3D%3D?line=6'>7</a>\u001b[0m                                             how\u001b[39m=\u001b[39m\u001b[39m'\u001b[39m\u001b[39minner\u001b[39m\u001b[39m'\u001b[39m\n\u001b[0;32m      <a href='vscode-notebook-cell:/c%3A/Users/natha/OneDrive/O-D%20Documents/Python%20Stuff/Erdos%20Institute/Group%20Project/2023_Erdos_Institute_Bootcamp_Education/EDA/combining_tables_part_2.ipynb#X25sZmlsZQ%3D%3D?line=7'>8</a>\u001b[0m                                             )\n\u001b[1;32m----> <a href='vscode-notebook-cell:/c%3A/Users/natha/OneDrive/O-D%20Documents/Python%20Stuff/Erdos%20Institute/Group%20Project/2023_Erdos_Institute_Bootcamp_Education/EDA/combining_tables_part_2.ipynb#X25sZmlsZQ%3D%3D?line=8'>9</a>\u001b[0m df \u001b[39m=\u001b[39m reduce(merge_function, data_frames_to_merge)\n",
      "\u001b[1;32mc:\\Users\\natha\\OneDrive\\O-D Documents\\Python Stuff\\Erdos Institute\\Group Project\\2023_Erdos_Institute_Bootcamp_Education\\EDA\\combining_tables_part_2.ipynb Cell 24\u001b[0m line \u001b[0;36m6\n\u001b[0;32m      <a href='vscode-notebook-cell:/c%3A/Users/natha/OneDrive/O-D%20Documents/Python%20Stuff/Erdos%20Institute/Group%20Project/2023_Erdos_Institute_Bootcamp_Education/EDA/combining_tables_part_2.ipynb#X25sZmlsZQ%3D%3D?line=3'>4</a>\u001b[0m \u001b[39mdef\u001b[39;00m \u001b[39mmerge_function\u001b[39m(left_df, right_df):\n\u001b[0;32m      <a href='vscode-notebook-cell:/c%3A/Users/natha/OneDrive/O-D%20Documents/Python%20Stuff/Erdos%20Institute/Group%20Project/2023_Erdos_Institute_Bootcamp_Education/EDA/combining_tables_part_2.ipynb#X25sZmlsZQ%3D%3D?line=4'>5</a>\u001b[0m     \u001b[39mprint\u001b[39m(\u001b[39m\"\u001b[39m\u001b[39mInitializing\u001b[39m\u001b[39m\"\u001b[39m)\n\u001b[1;32m----> <a href='vscode-notebook-cell:/c%3A/Users/natha/OneDrive/O-D%20Documents/Python%20Stuff/Erdos%20Institute/Group%20Project/2023_Erdos_Institute_Bootcamp_Education/EDA/combining_tables_part_2.ipynb#X25sZmlsZQ%3D%3D?line=5'>6</a>\u001b[0m     \u001b[39mreturn\u001b[39;00m pd\u001b[39m.\u001b[39;49mmerge(left_df, right_df, on\u001b[39m=\u001b[39;49m\u001b[39m'\u001b[39;49m\u001b[39mENTITY_CD\u001b[39;49m\u001b[39m'\u001b[39;49m,\n\u001b[0;32m      <a href='vscode-notebook-cell:/c%3A/Users/natha/OneDrive/O-D%20Documents/Python%20Stuff/Erdos%20Institute/Group%20Project/2023_Erdos_Institute_Bootcamp_Education/EDA/combining_tables_part_2.ipynb#X25sZmlsZQ%3D%3D?line=6'>7</a>\u001b[0m                                             how\u001b[39m=\u001b[39;49m\u001b[39m'\u001b[39;49m\u001b[39minner\u001b[39;49m\u001b[39m'\u001b[39;49m\n\u001b[0;32m      <a href='vscode-notebook-cell:/c%3A/Users/natha/OneDrive/O-D%20Documents/Python%20Stuff/Erdos%20Institute/Group%20Project/2023_Erdos_Institute_Bootcamp_Education/EDA/combining_tables_part_2.ipynb#X25sZmlsZQ%3D%3D?line=7'>8</a>\u001b[0m                                             )\n",
      "File \u001b[1;32mc:\\Users\\natha\\AppData\\Local\\Programs\\Python\\Python312\\Lib\\site-packages\\pandas\\core\\reshape\\merge.py:169\u001b[0m, in \u001b[0;36mmerge\u001b[1;34m(left, right, how, on, left_on, right_on, left_index, right_index, sort, suffixes, copy, indicator, validate)\u001b[0m\n\u001b[0;32m    154\u001b[0m     \u001b[39mreturn\u001b[39;00m _cross_merge(\n\u001b[0;32m    155\u001b[0m         left_df,\n\u001b[0;32m    156\u001b[0m         right_df,\n\u001b[1;32m   (...)\u001b[0m\n\u001b[0;32m    166\u001b[0m         copy\u001b[39m=\u001b[39mcopy,\n\u001b[0;32m    167\u001b[0m     )\n\u001b[0;32m    168\u001b[0m \u001b[39melse\u001b[39;00m:\n\u001b[1;32m--> 169\u001b[0m     op \u001b[39m=\u001b[39m _MergeOperation(\n\u001b[0;32m    170\u001b[0m         left_df,\n\u001b[0;32m    171\u001b[0m         right_df,\n\u001b[0;32m    172\u001b[0m         how\u001b[39m=\u001b[39;49mhow,\n\u001b[0;32m    173\u001b[0m         on\u001b[39m=\u001b[39;49mon,\n\u001b[0;32m    174\u001b[0m         left_on\u001b[39m=\u001b[39;49mleft_on,\n\u001b[0;32m    175\u001b[0m         right_on\u001b[39m=\u001b[39;49mright_on,\n\u001b[0;32m    176\u001b[0m         left_index\u001b[39m=\u001b[39;49mleft_index,\n\u001b[0;32m    177\u001b[0m         right_index\u001b[39m=\u001b[39;49mright_index,\n\u001b[0;32m    178\u001b[0m         sort\u001b[39m=\u001b[39;49msort,\n\u001b[0;32m    179\u001b[0m         suffixes\u001b[39m=\u001b[39;49msuffixes,\n\u001b[0;32m    180\u001b[0m         indicator\u001b[39m=\u001b[39;49mindicator,\n\u001b[0;32m    181\u001b[0m         validate\u001b[39m=\u001b[39;49mvalidate,\n\u001b[0;32m    182\u001b[0m     )\n\u001b[0;32m    183\u001b[0m     \u001b[39mreturn\u001b[39;00m op\u001b[39m.\u001b[39mget_result(copy\u001b[39m=\u001b[39mcopy)\n",
      "File \u001b[1;32mc:\\Users\\natha\\AppData\\Local\\Programs\\Python\\Python312\\Lib\\site-packages\\pandas\\core\\reshape\\merge.py:781\u001b[0m, in \u001b[0;36m_MergeOperation.__init__\u001b[1;34m(self, left, right, how, on, left_on, right_on, left_index, right_index, sort, suffixes, indicator, validate)\u001b[0m\n\u001b[0;32m    775\u001b[0m \u001b[39mif\u001b[39;00m _left\u001b[39m.\u001b[39mcolumns\u001b[39m.\u001b[39mnlevels \u001b[39m!=\u001b[39m _right\u001b[39m.\u001b[39mcolumns\u001b[39m.\u001b[39mnlevels:\n\u001b[0;32m    776\u001b[0m     msg \u001b[39m=\u001b[39m (\n\u001b[0;32m    777\u001b[0m         \u001b[39m\"\u001b[39m\u001b[39mNot allowed to merge between different levels. \u001b[39m\u001b[39m\"\u001b[39m\n\u001b[0;32m    778\u001b[0m         \u001b[39mf\u001b[39m\u001b[39m\"\u001b[39m\u001b[39m(\u001b[39m\u001b[39m{\u001b[39;00m_left\u001b[39m.\u001b[39mcolumns\u001b[39m.\u001b[39mnlevels\u001b[39m}\u001b[39;00m\u001b[39m levels on the left, \u001b[39m\u001b[39m\"\u001b[39m\n\u001b[0;32m    779\u001b[0m         \u001b[39mf\u001b[39m\u001b[39m\"\u001b[39m\u001b[39m{\u001b[39;00m_right\u001b[39m.\u001b[39mcolumns\u001b[39m.\u001b[39mnlevels\u001b[39m}\u001b[39;00m\u001b[39m on the right)\u001b[39m\u001b[39m\"\u001b[39m\n\u001b[0;32m    780\u001b[0m     )\n\u001b[1;32m--> 781\u001b[0m     \u001b[39mraise\u001b[39;00m MergeError(msg)\n\u001b[0;32m    783\u001b[0m \u001b[39mself\u001b[39m\u001b[39m.\u001b[39mleft_on, \u001b[39mself\u001b[39m\u001b[39m.\u001b[39mright_on \u001b[39m=\u001b[39m \u001b[39mself\u001b[39m\u001b[39m.\u001b[39m_validate_left_right_on(left_on, right_on)\n\u001b[0;32m    785\u001b[0m (\n\u001b[0;32m    786\u001b[0m     \u001b[39mself\u001b[39m\u001b[39m.\u001b[39mleft_join_keys,\n\u001b[0;32m    787\u001b[0m     \u001b[39mself\u001b[39m\u001b[39m.\u001b[39mright_join_keys,\n\u001b[1;32m   (...)\u001b[0m\n\u001b[0;32m    790\u001b[0m     right_drop,\n\u001b[0;32m    791\u001b[0m ) \u001b[39m=\u001b[39m \u001b[39mself\u001b[39m\u001b[39m.\u001b[39m_get_merge_keys()\n",
      "\u001b[1;31mMergeError\u001b[0m: Not allowed to merge between different levels. (1 levels on the left, 2 on the right)"
     ]
    }
   ],
   "source": [
    "from functools import reduce\n",
    "\n",
    "data_frames_to_merge = [df_epp_t, df_nxp_t, df_ocert_t, df_y_t]\n",
    "def merge_function(left_df, right_df):\n",
    "    print(\"Initializing\")\n",
    "    return pd.merge(left_df, right_df, on='ENTITY_CD',\n",
    "                                            how='inner'\n",
    "                                            )\n",
    "df = reduce(merge_function, data_frames_to_merge)"
   ]
  },
  {
   "cell_type": "markdown",
   "metadata": {},
   "source": [
    "The merge failed because the pivot table has rows/columns at the top that are wonky. We need to look into how to fix that. "
   ]
  }
 ],
 "metadata": {
  "kernelspec": {
   "display_name": "Python 3",
   "language": "python",
   "name": "python3"
  },
  "language_info": {
   "codemirror_mode": {
    "name": "ipython",
    "version": 3
   },
   "file_extension": ".py",
   "mimetype": "text/x-python",
   "name": "python",
   "nbconvert_exporter": "python",
   "pygments_lexer": "ipython3",
   "version": "3.12.0"
  }
 },
 "nbformat": 4,
 "nbformat_minor": 2
}
