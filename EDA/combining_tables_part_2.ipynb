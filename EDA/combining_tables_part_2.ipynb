{
 "cells": [
  {
   "cell_type": "code",
   "execution_count": 1,
   "metadata": {},
   "outputs": [],
   "source": [
    "import pandas as pd\n",
    "import matplotlib as mpl\n",
    "import matplotlib.pyplot as plt\n",
    "import seaborn as sns\n",
    "import numpy as np\n",
    "# import janitor #https://pyjanitor-devs.github.io/pyjanitor/"
   ]
  },
  {
   "cell_type": "markdown",
   "metadata": {},
   "source": [
    "### Set Global Variables and Create Dataframes"
   ]
  },
  {
   "cell_type": "markdown",
   "metadata": {},
   "source": [
    "Dataframe Name | Table Name\n",
    "| --- | --- |\n",
    "df_epp | Expenditures Per Pupil\n",
    "df_nxp | Inexperienced Teachers and Principals\n",
    "df_ocert | Teachers Teaching Out of Certification\n",
    "df_y | Annual Regents Exams"
   ]
  },
  {
   "cell_type": "code",
   "execution_count": 2,
   "metadata": {},
   "outputs": [],
   "source": [
    "df_epp = pd.read_excel(\"../Data/SRC2022/Expenditures Per Pupil.xlsx\")\n",
    "df_nxp = pd.read_excel(\"../Data/SRC2022/Inexperienced Teachers and Principals.xlsx\")\n",
    "df_ocert = pd.read_excel(\"../Data/SRC2022/Teachers Teaching Out of Certification.xlsx\")\n",
    "df_y = pd.read_excel(\"../Data/SRC2022/Annual Regents Exams.xlsx\")"
   ]
  },
  {
   "cell_type": "markdown",
   "metadata": {},
   "source": [
    "Variable Name | Meaning\n",
    "| --- | --- |\n",
    "chosen_test_subjects | The Annual Regents Exams we plan to use to measure school performance"
   ]
  },
  {
   "cell_type": "code",
   "execution_count": 3,
   "metadata": {},
   "outputs": [],
   "source": [
    "chosen_test_subjects = ('Regents Common Core Algebra I', 'Regents Common Core English Language Art', 'Regents Phy Set/Earth Sci')"
   ]
  },
  {
   "cell_type": "markdown",
   "metadata": {},
   "source": [
    "### Trimming Dataframes\n",
    "#### Defining a Trimming Function that will only keep the columns we wish and only keep the rows that have our desired YEAR and SUBGROUP_NAME of \"All Students\""
   ]
  },
  {
   "cell_type": "code",
   "execution_count": 4,
   "metadata": {},
   "outputs": [],
   "source": [
    "def trimmer(df: pd.DataFrame, *column_names, year: int=2021, year_col_name: str=\"YEAR\")->pd.DataFrame:\n",
    "    \"\"\"\n",
    "    Keeps only the columns specified, only the rows whose year agrees with the year argument, \n",
    "    and if there is a SUBGROUP column then it keeps only rows with the subgroup classification \n",
    "    of \"All Students\". \n",
    "    This is NOT an in-place method. \n",
    "    \"\"\"\n",
    "    # Trimming Rows\n",
    "    if year_col_name in df.columns:\n",
    "        df = df.loc[df[year_col_name]==year]\n",
    "    if \"SUBGROUP_NAME\" in df.columns:\n",
    "        df = df.loc[df[\"SUBGROUP_NAME\"]==\"All Students\"] #<-----This drops all rows that do not have \"All Students\" as the \"SUBGROUP\" column entry. \n",
    "    if \"SUBJECT\" in df.columns:\n",
    "        df = df.loc[df.SUBJECT.isin(chosen_test_subjects)]\n",
    "    # Trimming Columns\n",
    "    return df[list(column_names)]"
   ]
  },
  {
   "cell_type": "markdown",
   "metadata": {},
   "source": [
    "Note that we no longer have to look for ENTITY_CD ENTRIES that don't end in 0000."
   ]
  },
  {
   "cell_type": "markdown",
   "metadata": {},
   "source": [
    "#### Applying the Trimming Function"
   ]
  },
  {
   "cell_type": "code",
   "execution_count": 5,
   "metadata": {},
   "outputs": [],
   "source": [
    "# Expenditures Per Pupil: Keep only rows with the year 2021 and keeping only school ID, Name and Normalized Expenditures\n",
    "df_epp_t = trimmer(df_epp,'ENTITY_NAME', 'ENTITY_CD', 'PER_FED_STATE_LOCAL_EXP')\n",
    "df_nxp_t = trimmer(df_nxp,'ENTITY_CD', 'PER_TEACH_INEXP')\n",
    "df_ocert_t = trimmer(df_ocert,'ENTITY_CD', \"PER_OUT_CERT\")\n",
    "\n",
    "# df_y: Drop NaN values and make INSTITUTION_ID a string\n",
    "df_y_c = df_y.dropna(subset=['INSTITUTION_ID'], ignore_index=True)\n",
    "\n",
    "# df_y: Trim and Pivot\n",
    "df_y_t = trimmer(df_y_c, 'INSTITUTION_ID', 'ENTITY_CD', 'ENTITY_NAME', 'SUBJECT', \"PER_PROF\")"
   ]
  },
  {
   "cell_type": "markdown",
   "metadata": {},
   "source": [
    "We had a lot of trouble with pivoting before. Now, hopefully the code all works well and we can just pivot. \n",
    "#### Checking for duplicates. "
   ]
  },
  {
   "cell_type": "code",
   "execution_count": 6,
   "metadata": {},
   "outputs": [
    {
     "data": {
      "text/plain": [
       "ENTITY_CD\n",
       "211103040000    3\n",
       "261600860985    3\n",
       "220909040010    3\n",
       "211701040001    3\n",
       "211103040001    3\n",
       "               ..\n",
       "310200010177    1\n",
       "310200010167    1\n",
       "310200010131    1\n",
       "310200010126    1\n",
       "671002040001    1\n",
       "Name: count, Length: 429, dtype: int64"
      ]
     },
     "execution_count": 6,
     "metadata": {},
     "output_type": "execute_result"
    }
   ],
   "source": [
    "df_y_t.ENTITY_CD.value_counts()"
   ]
  },
  {
   "cell_type": "markdown",
   "metadata": {},
   "source": [
    "Success! We have at most 3 instances for each ENTITY_CD, one for each type of exam we decided on. "
   ]
  },
  {
   "cell_type": "markdown",
   "metadata": {},
   "source": [
    "But if we look on the row of the last cell, it says \"Length: <font color='red'><del>218</del></font> 429\". So there are only <font color='red'><del>218</del></font> 429 values. That means there are only <font color='red'><del>218</del></font> 429 schools in the list now. We get the same number when using the INSTITUTION_ID column, so it's not the choice of id:"
   ]
  },
  {
   "cell_type": "code",
   "execution_count": 28,
   "metadata": {},
   "outputs": [
    {
     "data": {
      "text/plain": [
       "429"
      ]
     },
     "execution_count": 28,
     "metadata": {},
     "output_type": "execute_result"
    }
   ],
   "source": [
    "df_y_t.INSTITUTION_ID.nunique()"
   ]
  },
  {
   "cell_type": "markdown",
   "metadata": {},
   "source": [
    "But if we go back to the original Regents Exams Dataframe, we get almost 3,000 schools. Does this mean that 90% of these didn't have an exam entry for our matching tests? "
   ]
  },
  {
   "cell_type": "code",
   "execution_count": 8,
   "metadata": {},
   "outputs": [
    {
     "data": {
      "text/plain": [
       "ENTITY_CD\n",
       "60601040000     214\n",
       "60601040003     212\n",
       "62901040000     195\n",
       "62901040002     195\n",
       "10100860907     193\n",
       "               ... \n",
       "320900010323      1\n",
       "320900010328      1\n",
       "261600010045      1\n",
       "331700011524      1\n",
       "342400010113      1\n",
       "Name: count, Length: 2974, dtype: int64"
      ]
     },
     "execution_count": 8,
     "metadata": {},
     "output_type": "execute_result"
    }
   ],
   "source": [
    "df_y.ENTITY_CD.value_counts()"
   ]
  },
  {
   "cell_type": "markdown",
   "metadata": {},
   "source": [
    "#### Pivoting the exam results"
   ]
  },
  {
   "cell_type": "code",
   "execution_count": 60,
   "metadata": {},
   "outputs": [
    {
     "data": {
      "text/html": [
       "<div>\n",
       "<style scoped>\n",
       "    .dataframe tbody tr th:only-of-type {\n",
       "        vertical-align: middle;\n",
       "    }\n",
       "\n",
       "    .dataframe tbody tr th {\n",
       "        vertical-align: top;\n",
       "    }\n",
       "\n",
       "    .dataframe thead th {\n",
       "        text-align: right;\n",
       "    }\n",
       "</style>\n",
       "<table border=\"1\" class=\"dataframe\">\n",
       "  <thead>\n",
       "    <tr style=\"text-align: right;\">\n",
       "      <th></th>\n",
       "      <th>ENTITY_CD</th>\n",
       "      <th>Regents Common Core Algebra I</th>\n",
       "      <th>Regents Common Core English Language Art</th>\n",
       "      <th>Regents Phy Set/Earth Sci</th>\n",
       "    </tr>\n",
       "  </thead>\n",
       "  <tbody>\n",
       "    <tr>\n",
       "      <th>0</th>\n",
       "      <td>10100860907</td>\n",
       "      <td>40</td>\n",
       "      <td>70</td>\n",
       "      <td>00</td>\n",
       "    </tr>\n",
       "    <tr>\n",
       "      <th>1</th>\n",
       "      <td>10615020000</td>\n",
       "      <td>100</td>\n",
       "      <td>NaN</td>\n",
       "      <td>100</td>\n",
       "    </tr>\n",
       "    <tr>\n",
       "      <th>2</th>\n",
       "      <td>10615020001</td>\n",
       "      <td>100</td>\n",
       "      <td>NaN</td>\n",
       "      <td>100</td>\n",
       "    </tr>\n",
       "    <tr>\n",
       "      <th>3</th>\n",
       "      <td>10623060006</td>\n",
       "      <td>s</td>\n",
       "      <td>NaN</td>\n",
       "      <td>NaN</td>\n",
       "    </tr>\n",
       "    <tr>\n",
       "      <th>4</th>\n",
       "      <td>10623060007</td>\n",
       "      <td>s</td>\n",
       "      <td>NaN</td>\n",
       "      <td>NaN</td>\n",
       "    </tr>\n",
       "  </tbody>\n",
       "</table>\n",
       "</div>"
      ],
      "text/plain": [
       "     ENTITY_CD Regents Common Core Algebra I  \\\n",
       "0  10100860907                            40   \n",
       "1  10615020000                           100   \n",
       "2  10615020001                           100   \n",
       "3  10623060006                             s   \n",
       "4  10623060007                             s   \n",
       "\n",
       "  Regents Common Core English Language Art Regents Phy Set/Earth Sci  \n",
       "0                                       70                        00  \n",
       "1                                      NaN                       100  \n",
       "2                                      NaN                       100  \n",
       "3                                      NaN                       NaN  \n",
       "4                                      NaN                       NaN  "
      ]
     },
     "execution_count": 60,
     "metadata": {},
     "output_type": "execute_result"
    }
   ],
   "source": [
    "# It turns out that using lists with single elements was what was keeping the data in the weird form. I had tried .reset_index() a few times and it never worked. This was because I was using the syntax from .pivot_table() instead of .pivot(). Now it works! \n",
    "df_y_p = df_y_t.pivot(index='ENTITY_CD', \n",
    "                            values=\"PER_PROF\", \n",
    "                            columns=\"SUBJECT\"\n",
    "                            ).reset_index()\n",
    "df_y_p.columns.name = None #Gets rid of the \"SUBJECT\" name for the indices https://www.youtube.com/watch?v=7flWNolPhsc\n",
    "df_y_p.head()"
   ]
  },
  {
   "cell_type": "markdown",
   "metadata": {},
   "source": [
    "And we can see that the table pivots with no trouble, yay! "
   ]
  },
  {
   "cell_type": "code",
   "execution_count": 10,
   "metadata": {},
   "outputs": [
    {
     "data": {
      "text/html": [
       "<div>\n",
       "<style scoped>\n",
       "    .dataframe tbody tr th:only-of-type {\n",
       "        vertical-align: middle;\n",
       "    }\n",
       "\n",
       "    .dataframe tbody tr th {\n",
       "        vertical-align: top;\n",
       "    }\n",
       "\n",
       "    .dataframe thead tr th {\n",
       "        text-align: left;\n",
       "    }\n",
       "</style>\n",
       "<table border=\"1\" class=\"dataframe\">\n",
       "  <thead>\n",
       "    <tr>\n",
       "      <th></th>\n",
       "      <th>ENTITY_CD</th>\n",
       "      <th colspan=\"3\" halign=\"left\">PER_PROF</th>\n",
       "    </tr>\n",
       "    <tr>\n",
       "      <th>SUBJECT</th>\n",
       "      <th></th>\n",
       "      <th>Regents Common Core Algebra I</th>\n",
       "      <th>Regents Common Core English Language Art</th>\n",
       "      <th>Regents Phy Set/Earth Sci</th>\n",
       "    </tr>\n",
       "  </thead>\n",
       "  <tbody>\n",
       "    <tr>\n",
       "      <th>0</th>\n",
       "      <td>10100860907</td>\n",
       "      <td>40</td>\n",
       "      <td>70</td>\n",
       "      <td>00</td>\n",
       "    </tr>\n",
       "    <tr>\n",
       "      <th>1</th>\n",
       "      <td>10615020000</td>\n",
       "      <td>100</td>\n",
       "      <td>NaN</td>\n",
       "      <td>100</td>\n",
       "    </tr>\n",
       "    <tr>\n",
       "      <th>2</th>\n",
       "      <td>10615020001</td>\n",
       "      <td>100</td>\n",
       "      <td>NaN</td>\n",
       "      <td>100</td>\n",
       "    </tr>\n",
       "    <tr>\n",
       "      <th>3</th>\n",
       "      <td>10623060006</td>\n",
       "      <td>s</td>\n",
       "      <td>NaN</td>\n",
       "      <td>NaN</td>\n",
       "    </tr>\n",
       "    <tr>\n",
       "      <th>4</th>\n",
       "      <td>10623060007</td>\n",
       "      <td>s</td>\n",
       "      <td>NaN</td>\n",
       "      <td>NaN</td>\n",
       "    </tr>\n",
       "  </tbody>\n",
       "</table>\n",
       "</div>"
      ],
      "text/plain": [
       "           ENTITY_CD                      PER_PROF  \\\n",
       "SUBJECT              Regents Common Core Algebra I   \n",
       "0        10100860907                            40   \n",
       "1        10615020000                           100   \n",
       "2        10615020001                           100   \n",
       "3        10623060006                             s   \n",
       "4        10623060007                             s   \n",
       "\n",
       "                                                                            \n",
       "SUBJECT Regents Common Core English Language Art Regents Phy Set/Earth Sci  \n",
       "0                                             70                        00  \n",
       "1                                            NaN                       100  \n",
       "2                                            NaN                       100  \n",
       "3                                            NaN                       NaN  \n",
       "4                                            NaN                       NaN  "
      ]
     },
     "execution_count": 10,
     "metadata": {},
     "output_type": "execute_result"
    }
   ],
   "source": [
    "df_y_p.head()"
   ]
  },
  {
   "cell_type": "markdown",
   "metadata": {},
   "source": [
    "### Merging the Tables\n",
    "Rather than having 3 different merge functions, we can use the reduce function from the functools library and define one merging function that will merge each cumulative pair of dataframes. "
   ]
  },
  {
   "cell_type": "code",
   "execution_count": 65,
   "metadata": {},
   "outputs": [],
   "source": [
    "from functools import reduce\n",
    "\n",
    "# Data Frames List\n",
    "data_frames_to_merge = [df_epp_t, df_nxp_t, df_ocert_t, df_y_p]\n",
    "\n",
    "# Merging Function\n",
    "def merge_function(left_df, right_df):\n",
    "    return pd.merge(left_df, right_df, on='ENTITY_CD',\n",
    "                                            how='inner'\n",
    "                                            )\n",
    "\n",
    "# Merge 'em! \n",
    "df = reduce(merge_function, data_frames_to_merge)"
   ]
  },
  {
   "cell_type": "markdown",
   "metadata": {},
   "source": [
    "<del>The merge failed because the pivot table has rows/columns at the top that are wonky. We need to look into how to fix that.</del>\n",
    "The merge was successful! "
   ]
  },
  {
   "cell_type": "code",
   "execution_count": 66,
   "metadata": {},
   "outputs": [
    {
     "data": {
      "text/html": [
       "<div>\n",
       "<style scoped>\n",
       "    .dataframe tbody tr th:only-of-type {\n",
       "        vertical-align: middle;\n",
       "    }\n",
       "\n",
       "    .dataframe tbody tr th {\n",
       "        vertical-align: top;\n",
       "    }\n",
       "\n",
       "    .dataframe thead th {\n",
       "        text-align: right;\n",
       "    }\n",
       "</style>\n",
       "<table border=\"1\" class=\"dataframe\">\n",
       "  <thead>\n",
       "    <tr style=\"text-align: right;\">\n",
       "      <th></th>\n",
       "      <th>ENTITY_NAME</th>\n",
       "      <th>ENTITY_CD</th>\n",
       "      <th>PER_FED_STATE_LOCAL_EXP</th>\n",
       "      <th>PER_TEACH_INEXP</th>\n",
       "      <th>PER_OUT_CERT</th>\n",
       "      <th>Regents Common Core Algebra I</th>\n",
       "      <th>Regents Common Core English Language Art</th>\n",
       "      <th>Regents Phy Set/Earth Sci</th>\n",
       "    </tr>\n",
       "  </thead>\n",
       "  <tbody>\n",
       "    <tr>\n",
       "      <th>0</th>\n",
       "      <td>PINE VALLEY CSD (SOUTH DAYTON)</td>\n",
       "      <td>60601040000</td>\n",
       "      <td>24772.0</td>\n",
       "      <td>21.0</td>\n",
       "      <td>4.0</td>\n",
       "      <td>63</td>\n",
       "      <td>93</td>\n",
       "      <td>NaN</td>\n",
       "    </tr>\n",
       "    <tr>\n",
       "      <th>1</th>\n",
       "      <td>PINE VALLEY CENTRAL JR-SR HIGH SCH</td>\n",
       "      <td>60601040003</td>\n",
       "      <td>16169.0</td>\n",
       "      <td>22.0</td>\n",
       "      <td>7.0</td>\n",
       "      <td>64</td>\n",
       "      <td>93</td>\n",
       "      <td>NaN</td>\n",
       "    </tr>\n",
       "    <tr>\n",
       "      <th>2</th>\n",
       "      <td>GREEN TECH HIGH CHARTER SCHOOL</td>\n",
       "      <td>10100860907</td>\n",
       "      <td>13917.0</td>\n",
       "      <td>8.0</td>\n",
       "      <td>61.0</td>\n",
       "      <td>40</td>\n",
       "      <td>70</td>\n",
       "      <td>00</td>\n",
       "    </tr>\n",
       "    <tr>\n",
       "      <th>3</th>\n",
       "      <td>MENANDS UFSD</td>\n",
       "      <td>10615020000</td>\n",
       "      <td>18122.0</td>\n",
       "      <td>7.0</td>\n",
       "      <td>3.0</td>\n",
       "      <td>100</td>\n",
       "      <td>NaN</td>\n",
       "      <td>100</td>\n",
       "    </tr>\n",
       "    <tr>\n",
       "      <th>4</th>\n",
       "      <td>MENANDS SCHOOL</td>\n",
       "      <td>10615020001</td>\n",
       "      <td>12333.0</td>\n",
       "      <td>7.0</td>\n",
       "      <td>3.0</td>\n",
       "      <td>100</td>\n",
       "      <td>NaN</td>\n",
       "      <td>100</td>\n",
       "    </tr>\n",
       "    <tr>\n",
       "      <th>...</th>\n",
       "      <td>...</td>\n",
       "      <td>...</td>\n",
       "      <td>...</td>\n",
       "      <td>...</td>\n",
       "      <td>...</td>\n",
       "      <td>...</td>\n",
       "      <td>...</td>\n",
       "      <td>...</td>\n",
       "    </tr>\n",
       "    <tr>\n",
       "      <th>424</th>\n",
       "      <td>MATTITUCK-CUTCHOGUE UFSD</td>\n",
       "      <td>581012020000</td>\n",
       "      <td>NaN</td>\n",
       "      <td>12.0</td>\n",
       "      <td>0.0</td>\n",
       "      <td>NaN</td>\n",
       "      <td>NaN</td>\n",
       "      <td>79</td>\n",
       "    </tr>\n",
       "    <tr>\n",
       "      <th>425</th>\n",
       "      <td>MATTITUCK JUNIOR-SENIOR HIGH SCHOOL</td>\n",
       "      <td>581012020001</td>\n",
       "      <td>23810.0</td>\n",
       "      <td>13.0</td>\n",
       "      <td>0.0</td>\n",
       "      <td>NaN</td>\n",
       "      <td>NaN</td>\n",
       "      <td>79</td>\n",
       "    </tr>\n",
       "    <tr>\n",
       "      <th>426</th>\n",
       "      <td>SPENCER-VAN ETTEN MIDDLE SCHOOL</td>\n",
       "      <td>600801040001</td>\n",
       "      <td>15171.0</td>\n",
       "      <td>22.0</td>\n",
       "      <td>7.0</td>\n",
       "      <td>100</td>\n",
       "      <td>NaN</td>\n",
       "      <td>NaN</td>\n",
       "    </tr>\n",
       "    <tr>\n",
       "      <th>427</th>\n",
       "      <td>GROTON CSD</td>\n",
       "      <td>610501040000</td>\n",
       "      <td>20384.0</td>\n",
       "      <td>32.0</td>\n",
       "      <td>5.0</td>\n",
       "      <td>NaN</td>\n",
       "      <td>72</td>\n",
       "      <td>NaN</td>\n",
       "    </tr>\n",
       "    <tr>\n",
       "      <th>428</th>\n",
       "      <td>GROTON JUNIOR/SENIOR HIGH SCHOOL</td>\n",
       "      <td>610501040001</td>\n",
       "      <td>14777.0</td>\n",
       "      <td>33.0</td>\n",
       "      <td>8.0</td>\n",
       "      <td>NaN</td>\n",
       "      <td>71</td>\n",
       "      <td>NaN</td>\n",
       "    </tr>\n",
       "  </tbody>\n",
       "</table>\n",
       "<p>429 rows × 8 columns</p>\n",
       "</div>"
      ],
      "text/plain": [
       "                             ENTITY_NAME     ENTITY_CD  \\\n",
       "0         PINE VALLEY CSD (SOUTH DAYTON)   60601040000   \n",
       "1     PINE VALLEY CENTRAL JR-SR HIGH SCH   60601040003   \n",
       "2         GREEN TECH HIGH CHARTER SCHOOL   10100860907   \n",
       "3                           MENANDS UFSD   10615020000   \n",
       "4                         MENANDS SCHOOL   10615020001   \n",
       "..                                   ...           ...   \n",
       "424             MATTITUCK-CUTCHOGUE UFSD  581012020000   \n",
       "425  MATTITUCK JUNIOR-SENIOR HIGH SCHOOL  581012020001   \n",
       "426      SPENCER-VAN ETTEN MIDDLE SCHOOL  600801040001   \n",
       "427                           GROTON CSD  610501040000   \n",
       "428     GROTON JUNIOR/SENIOR HIGH SCHOOL  610501040001   \n",
       "\n",
       "     PER_FED_STATE_LOCAL_EXP  PER_TEACH_INEXP  PER_OUT_CERT  \\\n",
       "0                    24772.0             21.0           4.0   \n",
       "1                    16169.0             22.0           7.0   \n",
       "2                    13917.0              8.0          61.0   \n",
       "3                    18122.0              7.0           3.0   \n",
       "4                    12333.0              7.0           3.0   \n",
       "..                       ...              ...           ...   \n",
       "424                      NaN             12.0           0.0   \n",
       "425                  23810.0             13.0           0.0   \n",
       "426                  15171.0             22.0           7.0   \n",
       "427                  20384.0             32.0           5.0   \n",
       "428                  14777.0             33.0           8.0   \n",
       "\n",
       "    Regents Common Core Algebra I Regents Common Core English Language Art  \\\n",
       "0                              63                                       93   \n",
       "1                              64                                       93   \n",
       "2                              40                                       70   \n",
       "3                             100                                      NaN   \n",
       "4                             100                                      NaN   \n",
       "..                            ...                                      ...   \n",
       "424                           NaN                                      NaN   \n",
       "425                           NaN                                      NaN   \n",
       "426                           100                                      NaN   \n",
       "427                           NaN                                       72   \n",
       "428                           NaN                                       71   \n",
       "\n",
       "    Regents Phy Set/Earth Sci  \n",
       "0                         NaN  \n",
       "1                         NaN  \n",
       "2                          00  \n",
       "3                         100  \n",
       "4                         100  \n",
       "..                        ...  \n",
       "424                        79  \n",
       "425                        79  \n",
       "426                       NaN  \n",
       "427                       NaN  \n",
       "428                       NaN  \n",
       "\n",
       "[429 rows x 8 columns]"
      ]
     },
     "execution_count": 66,
     "metadata": {},
     "output_type": "execute_result"
    }
   ],
   "source": [
    "df"
   ]
  },
  {
   "cell_type": "markdown",
   "metadata": {},
   "source": [
    "It now looks like we could turn our attention to the low numbers in the exam columns and find a way to address the \"s\" characters in them that is preventing them from being numeric. "
   ]
  },
  {
   "cell_type": "code",
   "execution_count": 67,
   "metadata": {},
   "outputs": [
    {
     "name": "stdout",
     "output_type": "stream",
     "text": [
      "<class 'pandas.core.frame.DataFrame'>\n",
      "RangeIndex: 429 entries, 0 to 428\n",
      "Data columns (total 8 columns):\n",
      " #   Column                                    Non-Null Count  Dtype  \n",
      "---  ------                                    --------------  -----  \n",
      " 0   ENTITY_NAME                               429 non-null    object \n",
      " 1   ENTITY_CD                                 429 non-null    int64  \n",
      " 2   PER_FED_STATE_LOCAL_EXP                   425 non-null    float64\n",
      " 3   PER_TEACH_INEXP                           427 non-null    float64\n",
      " 4   PER_OUT_CERT                              425 non-null    float64\n",
      " 5   Regents Common Core Algebra I             341 non-null    object \n",
      " 6   Regents Common Core English Language Art  106 non-null    object \n",
      " 7   Regents Phy Set/Earth Sci                 121 non-null    object \n",
      "dtypes: float64(3), int64(1), object(4)\n",
      "memory usage: 26.9+ KB\n"
     ]
    }
   ],
   "source": [
    "df.info()"
   ]
  }
 ],
 "metadata": {
  "kernelspec": {
   "display_name": "Python 3",
   "language": "python",
   "name": "python3"
  },
  "language_info": {
   "codemirror_mode": {
    "name": "ipython",
    "version": 3
   },
   "file_extension": ".py",
   "mimetype": "text/x-python",
   "name": "python",
   "nbconvert_exporter": "python",
   "pygments_lexer": "ipython3",
   "version": "3.12.0"
  }
 },
 "nbformat": 4,
 "nbformat_minor": 2
}
