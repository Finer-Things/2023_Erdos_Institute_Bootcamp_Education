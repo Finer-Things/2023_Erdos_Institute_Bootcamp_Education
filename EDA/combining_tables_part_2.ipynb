{
 "cells": [
  {
   "cell_type": "code",
   "execution_count": 1,
   "metadata": {},
   "outputs": [],
   "source": [
    "import pandas as pd\n",
    "import matplotlib as mpl\n",
    "import matplotlib.pyplot as plt\n",
    "import seaborn as sns\n",
    "import numpy as np"
   ]
  },
  {
   "cell_type": "markdown",
   "metadata": {},
   "source": [
    "### Set Global Variables and Create Dataframes"
   ]
  },
  {
   "cell_type": "markdown",
   "metadata": {},
   "source": [
    "Dataframe Name | Table Name\n",
    "| --- | --- |\n",
    "df_epp | Expenditures Per Pupil\n",
    "df_nxp | Inexperienced Teachers and Principals\n",
    "df_ocert | Teachers Teaching Out of Certification\n",
    "df_y | Annual Regents Exams\n"
   ]
  },
  {
   "cell_type": "code",
   "execution_count": 2,
   "metadata": {},
   "outputs": [],
   "source": [
    "df_epp = pd.read_excel(\"../Data/SRC2022/Expenditures Per Pupil.xlsx\")\n",
    "df_nxp = pd.read_excel(\"../Data/SRC2022/Inexperienced Teachers and Principals.xlsx\")\n",
    "df_ocert = pd.read_excel(\"../Data/SRC2022/Teachers Teaching Out of Certification.xlsx\")\n",
    "df_y = pd.read_excel(\"../Data/SRC2022/Annual Regents Exams.xlsx\")\n",
    "\n",
    "# Only the standarized tests we wish to look at. \n",
    "chosen_text_subjects = ('Regents Common Core Algebra I', 'Regents Common Core English Language Art', 'Regents Phy Set/Earth Sci')"
   ]
  },
  {
   "cell_type": "markdown",
   "metadata": {},
   "source": [
    "### Trimming Dataframes\n",
    "#### Defining a Trimming Function that will only keep the columns we wish and only keep the rows that have our desired YEAR and SUBGROUP_NAME of \"All Students\""
   ]
  },
  {
   "cell_type": "code",
   "execution_count": 3,
   "metadata": {},
   "outputs": [],
   "source": [
    "def trimmer(df: pd.DataFrame, *column_names, year: int=2022, year_col_name: str=\"YEAR\")->pd.DataFrame:\n",
    "    \"\"\"\n",
    "    Keeps only the columns specified, only the rows whose year agrees with the year argument, \n",
    "    and if there is a SUBGROUP column then it keeps only rows with the subgroup classification \n",
    "    of \"All Students\". \n",
    "    This is NOT an in-place method. \n",
    "    \"\"\"\n",
    "    # Trimming Rows\n",
    "    if year_col_name in df.columns:\n",
    "        df = df.loc[df[year_col_name]==year]\n",
    "    if \"SUBGROUP_NAME\" in df.columns:\n",
    "        df = df.loc[df[\"SUBGROUP_NAME\"]==\"All Students\"] #<-----This drops all rows that do not have \"All Students\" as the \"SUBGROUP\" column entry. \n",
    "    if \"SUBJECT\" in df.columns:\n",
    "        df = df.loc[df.SUBJECT.isin(chosen_text_subjects)]\n",
    "    # Trimming Columns\n",
    "    return df[list(column_names)]"
   ]
  },
  {
   "cell_type": "markdown",
   "metadata": {},
   "source": [
    "Note that we no longer have to look for ENTITY_CD ENTRIES that don't end in 0000."
   ]
  },
  {
   "cell_type": "markdown",
   "metadata": {},
   "source": [
    "#### Applying the Trimming Function"
   ]
  },
  {
   "cell_type": "code",
   "execution_count": 13,
   "metadata": {},
   "outputs": [],
   "source": [
    "# Expenditures Per Pupil: Keep only rows with the year 2021 and keeping only school ID, Name and Normalized Expenditures\n",
    "df_epp_t = trimmer(df_epp,'ENTITY_NAME', 'ENTITY_CD', 'PER_FED_STATE_LOCAL_EXP', year=2022)\n",
    "df_nxp_t = trimmer(df_nxp,'ENTITY_CD', 'PER_TEACH_INEXP', year=2022)\n",
    "df_ocert_t = trimmer(df_ocert,'ENTITY_CD', \"PER_OUT_CERT\", year=2022)\n",
    "\n",
    "# df_y: Drop NaN values and make INSTITUTION_ID a string\n",
    "df_y_c = df_y.dropna(subset=['INSTITUTION_ID'], ignore_index=True)\n",
    "\n",
    "# df_y: Trim and Pivot\n",
    "df_y_t = trimmer(df_y_c, 'INSTITUTION_ID', 'ENTITY_CD', 'ENTITY_NAME', 'SUBJECT', \"PER_PROF\", year=2022)\n"
   ]
  },
  {
   "cell_type": "markdown",
   "metadata": {},
   "source": [
    "We had a lot of trouble with pivoting before. Now, hopefully the code all works well and we can just pivot. \n",
    "#### Checking for duplicates. "
   ]
  },
  {
   "cell_type": "code",
   "execution_count": 14,
   "metadata": {},
   "outputs": [
    {
     "data": {
      "text/plain": [
       "ENTITY_CD\n",
       "42302040000     3\n",
       "22401040003     3\n",
       "60601040003     3\n",
       "121701040001    3\n",
       "120301040000    3\n",
       "               ..\n",
       "50301040002     1\n",
       "50301040000     1\n",
       "43011020001     1\n",
       "43001040002     1\n",
       "131701060004    1\n",
       "Name: count, Length: 218, dtype: int64"
      ]
     },
     "execution_count": 14,
     "metadata": {},
     "output_type": "execute_result"
    }
   ],
   "source": [
    "\n",
    "df_y_t.ENTITY_CD.value_counts()"
   ]
  },
  {
   "cell_type": "markdown",
   "metadata": {},
   "source": [
    "Success! We have at most 3 instances for each ENTITY_CD, one for each type of exam we decided on. "
   ]
  },
  {
   "cell_type": "markdown",
   "metadata": {},
   "source": [
    "But if we look on the row of the last cell, it says \"Length: 218\". So there are only 218 values. That means there are only 218 schools in the list now. We get the same number when using the INSTITUTION_ID column, so it's not the choice of id:"
   ]
  },
  {
   "cell_type": "code",
   "execution_count": 17,
   "metadata": {},
   "outputs": [
    {
     "data": {
      "text/plain": [
       "218"
      ]
     },
     "execution_count": 17,
     "metadata": {},
     "output_type": "execute_result"
    }
   ],
   "source": [
    "len(df_y_t.INSTITUTION_ID.unique())"
   ]
  },
  {
   "cell_type": "markdown",
   "metadata": {},
   "source": [
    "But if we go back to the original Regents Exams Dataframe, we get almost 3,000 schools. Does this mean that 90% of these didn't have an exam entry for our matching tests? "
   ]
  },
  {
   "cell_type": "code",
   "execution_count": 16,
   "metadata": {},
   "outputs": [
    {
     "data": {
      "text/plain": [
       "ENTITY_CD\n",
       "60601040000     214\n",
       "60601040003     212\n",
       "62901040000     195\n",
       "62901040002     195\n",
       "10100860907     193\n",
       "               ... \n",
       "320900010323      1\n",
       "320900010328      1\n",
       "261600010045      1\n",
       "331700011524      1\n",
       "342400010113      1\n",
       "Name: count, Length: 2974, dtype: int64"
      ]
     },
     "execution_count": 16,
     "metadata": {},
     "output_type": "execute_result"
    }
   ],
   "source": [
    "df_y.ENTITY_CD.value_counts()"
   ]
  },
  {
   "cell_type": "markdown",
   "metadata": {},
   "source": [
    "#### Pivoting the exam results"
   ]
  },
  {
   "cell_type": "code",
   "execution_count": 9,
   "metadata": {},
   "outputs": [],
   "source": [
    "df_y_t = df_y_t.pivot(index=['INSTITUTION_ID'], \n",
    "                            values=[\"PER_PROF\"], \n",
    "                            columns=[\"SUBJECT\"]\n",
    "                            )"
   ]
  },
  {
   "cell_type": "markdown",
   "metadata": {},
   "source": [
    "### Merging the Tables"
   ]
  },
  {
   "cell_type": "code",
   "execution_count": 51,
   "metadata": {},
   "outputs": [],
   "source": [
    "from functools import reduce\n",
    "\n",
    "trimmed_data_frames = [df_epp_t, df_nxp_t, df_ocert_t, df_y_t]\n",
    "df = reduce(lambda  left_df, right_df: pd.merge(left_df, right_df, on='ENTITY_CD',\n",
    "                                            how='inner'\n",
    "                                            ), \n",
    "            trimmed_data_frames)"
   ]
  },
  {
   "cell_type": "code",
   "execution_count": 63,
   "metadata": {},
   "outputs": [
    {
     "data": {
      "text/html": [
       "<div>\n",
       "<style scoped>\n",
       "    .dataframe tbody tr th:only-of-type {\n",
       "        vertical-align: middle;\n",
       "    }\n",
       "\n",
       "    .dataframe tbody tr th {\n",
       "        vertical-align: top;\n",
       "    }\n",
       "\n",
       "    .dataframe thead th {\n",
       "        text-align: right;\n",
       "    }\n",
       "</style>\n",
       "<table border=\"1\" class=\"dataframe\">\n",
       "  <thead>\n",
       "    <tr style=\"text-align: right;\">\n",
       "      <th>SUBJECT</th>\n",
       "      <th>Regents Common Core Algebra I</th>\n",
       "      <th>Regents Common Core English Language Art</th>\n",
       "      <th>Regents Phy Set/Earth Sci</th>\n",
       "    </tr>\n",
       "    <tr>\n",
       "      <th>ENTITY_CD</th>\n",
       "      <th></th>\n",
       "      <th></th>\n",
       "      <th></th>\n",
       "    </tr>\n",
       "  </thead>\n",
       "  <tbody>\n",
       "    <tr>\n",
       "      <th>10100010030</th>\n",
       "      <td>83</td>\n",
       "      <td>NaN</td>\n",
       "      <td>NaN</td>\n",
       "    </tr>\n",
       "    <tr>\n",
       "      <th>10100010034</th>\n",
       "      <td>32</td>\n",
       "      <td>71</td>\n",
       "      <td>23</td>\n",
       "    </tr>\n",
       "    <tr>\n",
       "      <th>10100010045</th>\n",
       "      <td>75</td>\n",
       "      <td>NaN</td>\n",
       "      <td>NaN</td>\n",
       "    </tr>\n",
       "    <tr>\n",
       "      <th>10100010051</th>\n",
       "      <td>57</td>\n",
       "      <td>NaN</td>\n",
       "      <td>NaN</td>\n",
       "    </tr>\n",
       "    <tr>\n",
       "      <th>10100860867</th>\n",
       "      <td>08</td>\n",
       "      <td>NaN</td>\n",
       "      <td>NaN</td>\n",
       "    </tr>\n",
       "  </tbody>\n",
       "</table>\n",
       "</div>"
      ],
      "text/plain": [
       "SUBJECT     Regents Common Core Algebra I  \\\n",
       "ENTITY_CD                                   \n",
       "10100010030                            83   \n",
       "10100010034                            32   \n",
       "10100010045                            75   \n",
       "10100010051                            57   \n",
       "10100860867                            08   \n",
       "\n",
       "SUBJECT     Regents Common Core English Language Art Regents Phy Set/Earth Sci  \n",
       "ENTITY_CD                                                                       \n",
       "10100010030                                      NaN                       NaN  \n",
       "10100010034                                       71                        23  \n",
       "10100010045                                      NaN                       NaN  \n",
       "10100010051                                      NaN                       NaN  \n",
       "10100860867                                      NaN                       NaN  "
      ]
     },
     "execution_count": 63,
     "metadata": {},
     "output_type": "execute_result"
    }
   ],
   "source": [
    "# Trying df.pivot instead of df.pivot_table (what we used before) because we shouldn't have duplicates\n",
    "# df_p = df.pivot(index=[\"ENTITY_NAME\", 'ENTITY_CD'], \n",
    "#                             values=[\"PER_PROF\"], \n",
    "#                             columns=[\"SUBJECT\"], \n",
    "#                             aggfunc=\"first\"\n",
    "#                             )\n",
    "df_p = df.groupby([\"ENTITY_CD\", \"SUBJECT\"]).first().PER_PROF.unstack()\n",
    "\n",
    "df_p.head()"
   ]
  },
  {
   "cell_type": "code",
   "execution_count": 14,
   "metadata": {},
   "outputs": [
    {
     "ename": "NameError",
     "evalue": "name 'df_p' is not defined",
     "output_type": "error",
     "traceback": [
      "\u001b[1;31m---------------------------------------------------------------------------\u001b[0m",
      "\u001b[1;31mNameError\u001b[0m                                 Traceback (most recent call last)",
      "\u001b[1;32mc:\\Users\\natha\\OneDrive\\O-D Documents\\Python Stuff\\Erdos Institute\\Group Project\\2023_Erdos_Institute_Bootcamp_Education\\EDA\\combining_tables_part_2.ipynb Cell 16\u001b[0m line \u001b[0;36m1\n\u001b[1;32m----> <a href='vscode-notebook-cell:/c%3A/Users/natha/OneDrive/O-D%20Documents/Python%20Stuff/Erdos%20Institute/Group%20Project/2023_Erdos_Institute_Bootcamp_Education/EDA/combining_tables_part_2.ipynb#X31sZmlsZQ%3D%3D?line=0'>1</a>\u001b[0m df_p\u001b[39m.\u001b[39mENTITY_NAME\u001b[39m.\u001b[39mvalue_counts()\n",
      "\u001b[1;31mNameError\u001b[0m: name 'df_p' is not defined"
     ]
    }
   ],
   "source": [
    "df_p.ENTITY_NAME.value_counts()"
   ]
  },
  {
   "cell_type": "code",
   "execution_count": 38,
   "metadata": {},
   "outputs": [
    {
     "data": {
      "text/plain": [
       "ENTITY_NAME\n",
       "PARK AVENUE SCHOOL                      4\n",
       "JOHN F KENNEDY MIDDLE SCHOOL            4\n",
       "JOHN F KENNEDY SCHOOL                   4\n",
       "GEORGE WASHINGTON SCHOOL                3\n",
       "JEFFERSON ELEMENTARY SCHOOL             3\n",
       "                                       ..\n",
       "WORLD VIEW HIGH SCHOOL                  1\n",
       "BRONX COLLABORATIVE HIGH SCHOOL         1\n",
       "INTERNATIONAL SCHOOL FOR LIBERAL ART    1\n",
       "PULSE HIGH SCHOOL                       1\n",
       "MARION ELEMENTARY SCHOOL                1\n",
       "Name: count, Length: 5370, dtype: int64"
      ]
     },
     "execution_count": 38,
     "metadata": {},
     "output_type": "execute_result"
    }
   ],
   "source": [
    "df_epp_t.ENTITY_NAME.value_counts()"
   ]
  },
  {
   "cell_type": "code",
   "execution_count": 46,
   "metadata": {},
   "outputs": [
    {
     "data": {
      "text/html": [
       "<div>\n",
       "<style scoped>\n",
       "    .dataframe tbody tr th:only-of-type {\n",
       "        vertical-align: middle;\n",
       "    }\n",
       "\n",
       "    .dataframe tbody tr th {\n",
       "        vertical-align: top;\n",
       "    }\n",
       "\n",
       "    .dataframe thead th {\n",
       "        text-align: right;\n",
       "    }\n",
       "</style>\n",
       "<table border=\"1\" class=\"dataframe\">\n",
       "  <thead>\n",
       "    <tr style=\"text-align: right;\">\n",
       "      <th></th>\n",
       "      <th>INSTITUTION_ID</th>\n",
       "      <th>ENTITY_CD</th>\n",
       "      <th>ENTITY_NAME</th>\n",
       "      <th>YEAR</th>\n",
       "      <th>PUPIL_COUNT_TOT</th>\n",
       "      <th>FEDERAL_EXP</th>\n",
       "      <th>PER_FEDERAL_EXP</th>\n",
       "      <th>STATE_LOCAL_EXP</th>\n",
       "      <th>PER_STATE_LOCAL_EXP</th>\n",
       "      <th>FED_STATE_LOCAL_EXP</th>\n",
       "      <th>PER_FED_STATE_LOCAL_EXP</th>\n",
       "      <th>DATA_REPORTED_ENR</th>\n",
       "      <th>DATA_REPORTED_EXP</th>\n",
       "    </tr>\n",
       "  </thead>\n",
       "  <tbody>\n",
       "    <tr>\n",
       "      <th>770</th>\n",
       "      <td>800000052300</td>\n",
       "      <td>140709030003</td>\n",
       "      <td>JOHN F KENNEDY MIDDLE SCHOOL</td>\n",
       "      <td>2021</td>\n",
       "      <td>287.0</td>\n",
       "      <td>210876.0</td>\n",
       "      <td>735.0</td>\n",
       "      <td>4532700.0</td>\n",
       "      <td>15793.0</td>\n",
       "      <td>4743576.0</td>\n",
       "      <td>16528.0</td>\n",
       "      <td>Y</td>\n",
       "      <td>Y</td>\n",
       "    </tr>\n",
       "    <tr>\n",
       "      <th>1127</th>\n",
       "      <td>800000048763</td>\n",
       "      <td>280521030008</td>\n",
       "      <td>JOHN F KENNEDY MIDDLE SCHOOL</td>\n",
       "      <td>2021</td>\n",
       "      <td>679.0</td>\n",
       "      <td>67955.0</td>\n",
       "      <td>100.0</td>\n",
       "      <td>15722849.0</td>\n",
       "      <td>23156.0</td>\n",
       "      <td>15790804.0</td>\n",
       "      <td>23256.0</td>\n",
       "      <td>Y</td>\n",
       "      <td>Y</td>\n",
       "    </tr>\n",
       "    <tr>\n",
       "      <th>1207</th>\n",
       "      <td>800000049733</td>\n",
       "      <td>280204020004</td>\n",
       "      <td>PARK AVENUE SCHOOL</td>\n",
       "      <td>2021</td>\n",
       "      <td>312.0</td>\n",
       "      <td>84026.0</td>\n",
       "      <td>269.0</td>\n",
       "      <td>4738904.0</td>\n",
       "      <td>15189.0</td>\n",
       "      <td>4822930.0</td>\n",
       "      <td>15458.0</td>\n",
       "      <td>Y</td>\n",
       "      <td>Y</td>\n",
       "    </tr>\n",
       "    <tr>\n",
       "      <th>1559</th>\n",
       "      <td>800000034961</td>\n",
       "      <td>661904030005</td>\n",
       "      <td>PARK AVENUE SCHOOL</td>\n",
       "      <td>2021</td>\n",
       "      <td>426.0</td>\n",
       "      <td>216904.0</td>\n",
       "      <td>509.0</td>\n",
       "      <td>6098639.0</td>\n",
       "      <td>14316.0</td>\n",
       "      <td>6315543.0</td>\n",
       "      <td>14825.0</td>\n",
       "      <td>Y</td>\n",
       "      <td>Y</td>\n",
       "    </tr>\n",
       "    <tr>\n",
       "      <th>3318</th>\n",
       "      <td>800000049186</td>\n",
       "      <td>280401030001</td>\n",
       "      <td>PARK AVENUE SCHOOL</td>\n",
       "      <td>2021</td>\n",
       "      <td>653.0</td>\n",
       "      <td>413625.0</td>\n",
       "      <td>633.0</td>\n",
       "      <td>15759588.0</td>\n",
       "      <td>24134.0</td>\n",
       "      <td>16173212.0</td>\n",
       "      <td>24768.0</td>\n",
       "      <td>Y</td>\n",
       "      <td>Y</td>\n",
       "    </tr>\n",
       "    <tr>\n",
       "      <th>3687</th>\n",
       "      <td>800000037695</td>\n",
       "      <td>580203020004</td>\n",
       "      <td>JOHN F KENNEDY MIDDLE SCHOOL</td>\n",
       "      <td>2021</td>\n",
       "      <td>796.0</td>\n",
       "      <td>267591.0</td>\n",
       "      <td>336.0</td>\n",
       "      <td>14911613.0</td>\n",
       "      <td>18733.0</td>\n",
       "      <td>15179205.0</td>\n",
       "      <td>19069.0</td>\n",
       "      <td>Y</td>\n",
       "      <td>Y</td>\n",
       "    </tr>\n",
       "    <tr>\n",
       "      <th>4469</th>\n",
       "      <td>800000048763</td>\n",
       "      <td>280521030008</td>\n",
       "      <td>JOHN F KENNEDY MIDDLE SCHOOL</td>\n",
       "      <td>2022</td>\n",
       "      <td>695.0</td>\n",
       "      <td>188333.0</td>\n",
       "      <td>271.0</td>\n",
       "      <td>15182079.0</td>\n",
       "      <td>21845.0</td>\n",
       "      <td>15370412.0</td>\n",
       "      <td>22116.0</td>\n",
       "      <td>Y</td>\n",
       "      <td>Y</td>\n",
       "    </tr>\n",
       "    <tr>\n",
       "      <th>4781</th>\n",
       "      <td>800000041272</td>\n",
       "      <td>412300010022</td>\n",
       "      <td>JOHN F KENNEDY MIDDLE SCHOOL</td>\n",
       "      <td>2021</td>\n",
       "      <td>673.0</td>\n",
       "      <td>854626.0</td>\n",
       "      <td>1270.0</td>\n",
       "      <td>7344290.0</td>\n",
       "      <td>10913.0</td>\n",
       "      <td>8198916.0</td>\n",
       "      <td>12183.0</td>\n",
       "      <td>Y</td>\n",
       "      <td>Y</td>\n",
       "    </tr>\n",
       "    <tr>\n",
       "      <th>6246</th>\n",
       "      <td>800000052300</td>\n",
       "      <td>140709030003</td>\n",
       "      <td>JOHN F KENNEDY MIDDLE SCHOOL</td>\n",
       "      <td>2022</td>\n",
       "      <td>267.0</td>\n",
       "      <td>541691.0</td>\n",
       "      <td>2029.0</td>\n",
       "      <td>4307866.0</td>\n",
       "      <td>16134.0</td>\n",
       "      <td>4849557.0</td>\n",
       "      <td>18163.0</td>\n",
       "      <td>Y</td>\n",
       "      <td>Y</td>\n",
       "    </tr>\n",
       "    <tr>\n",
       "      <th>7220</th>\n",
       "      <td>800000049733</td>\n",
       "      <td>280204020004</td>\n",
       "      <td>PARK AVENUE SCHOOL</td>\n",
       "      <td>2022</td>\n",
       "      <td>300.0</td>\n",
       "      <td>240112.0</td>\n",
       "      <td>800.0</td>\n",
       "      <td>4951397.0</td>\n",
       "      <td>16505.0</td>\n",
       "      <td>5191509.0</td>\n",
       "      <td>17305.0</td>\n",
       "      <td>Y</td>\n",
       "      <td>Y</td>\n",
       "    </tr>\n",
       "    <tr>\n",
       "      <th>7458</th>\n",
       "      <td>800000049186</td>\n",
       "      <td>280401030001</td>\n",
       "      <td>PARK AVENUE SCHOOL</td>\n",
       "      <td>2022</td>\n",
       "      <td>604.0</td>\n",
       "      <td>1931385.0</td>\n",
       "      <td>3198.0</td>\n",
       "      <td>12282794.0</td>\n",
       "      <td>20336.0</td>\n",
       "      <td>14214179.0</td>\n",
       "      <td>23533.0</td>\n",
       "      <td>Y</td>\n",
       "      <td>Y</td>\n",
       "    </tr>\n",
       "    <tr>\n",
       "      <th>7592</th>\n",
       "      <td>800000037785</td>\n",
       "      <td>580106030003</td>\n",
       "      <td>PARK AVENUE SCHOOL</td>\n",
       "      <td>2021</td>\n",
       "      <td>676.0</td>\n",
       "      <td>437780.0</td>\n",
       "      <td>648.0</td>\n",
       "      <td>13840021.0</td>\n",
       "      <td>20473.0</td>\n",
       "      <td>14277800.0</td>\n",
       "      <td>21121.0</td>\n",
       "      <td>Y</td>\n",
       "      <td>Y</td>\n",
       "    </tr>\n",
       "    <tr>\n",
       "      <th>8339</th>\n",
       "      <td>800000041272</td>\n",
       "      <td>412300010022</td>\n",
       "      <td>JOHN F KENNEDY MIDDLE SCHOOL</td>\n",
       "      <td>2022</td>\n",
       "      <td>703.0</td>\n",
       "      <td>1338655.0</td>\n",
       "      <td>1904.0</td>\n",
       "      <td>7620350.0</td>\n",
       "      <td>10840.0</td>\n",
       "      <td>8959005.0</td>\n",
       "      <td>12744.0</td>\n",
       "      <td>Y</td>\n",
       "      <td>Y</td>\n",
       "    </tr>\n",
       "    <tr>\n",
       "      <th>9546</th>\n",
       "      <td>800000037695</td>\n",
       "      <td>580203020004</td>\n",
       "      <td>JOHN F KENNEDY MIDDLE SCHOOL</td>\n",
       "      <td>2022</td>\n",
       "      <td>806.0</td>\n",
       "      <td>475542.0</td>\n",
       "      <td>590.0</td>\n",
       "      <td>15486925.0</td>\n",
       "      <td>19215.0</td>\n",
       "      <td>15962467.0</td>\n",
       "      <td>19805.0</td>\n",
       "      <td>Y</td>\n",
       "      <td>Y</td>\n",
       "    </tr>\n",
       "    <tr>\n",
       "      <th>9558</th>\n",
       "      <td>800000034961</td>\n",
       "      <td>661904030005</td>\n",
       "      <td>PARK AVENUE SCHOOL</td>\n",
       "      <td>2022</td>\n",
       "      <td>424.0</td>\n",
       "      <td>350398.0</td>\n",
       "      <td>826.0</td>\n",
       "      <td>6782263.0</td>\n",
       "      <td>15996.0</td>\n",
       "      <td>7132661.0</td>\n",
       "      <td>16822.0</td>\n",
       "      <td>Y</td>\n",
       "      <td>Y</td>\n",
       "    </tr>\n",
       "    <tr>\n",
       "      <th>10167</th>\n",
       "      <td>800000037785</td>\n",
       "      <td>580106030003</td>\n",
       "      <td>PARK AVENUE SCHOOL</td>\n",
       "      <td>2022</td>\n",
       "      <td>647.0</td>\n",
       "      <td>585824.0</td>\n",
       "      <td>905.0</td>\n",
       "      <td>10860674.0</td>\n",
       "      <td>16786.0</td>\n",
       "      <td>11446498.0</td>\n",
       "      <td>17692.0</td>\n",
       "      <td>Y</td>\n",
       "      <td>Y</td>\n",
       "    </tr>\n",
       "  </tbody>\n",
       "</table>\n",
       "</div>"
      ],
      "text/plain": [
       "       INSTITUTION_ID     ENTITY_CD                   ENTITY_NAME  YEAR  \\\n",
       "770      800000052300  140709030003  JOHN F KENNEDY MIDDLE SCHOOL  2021   \n",
       "1127     800000048763  280521030008  JOHN F KENNEDY MIDDLE SCHOOL  2021   \n",
       "1207     800000049733  280204020004            PARK AVENUE SCHOOL  2021   \n",
       "1559     800000034961  661904030005            PARK AVENUE SCHOOL  2021   \n",
       "3318     800000049186  280401030001            PARK AVENUE SCHOOL  2021   \n",
       "3687     800000037695  580203020004  JOHN F KENNEDY MIDDLE SCHOOL  2021   \n",
       "4469     800000048763  280521030008  JOHN F KENNEDY MIDDLE SCHOOL  2022   \n",
       "4781     800000041272  412300010022  JOHN F KENNEDY MIDDLE SCHOOL  2021   \n",
       "6246     800000052300  140709030003  JOHN F KENNEDY MIDDLE SCHOOL  2022   \n",
       "7220     800000049733  280204020004            PARK AVENUE SCHOOL  2022   \n",
       "7458     800000049186  280401030001            PARK AVENUE SCHOOL  2022   \n",
       "7592     800000037785  580106030003            PARK AVENUE SCHOOL  2021   \n",
       "8339     800000041272  412300010022  JOHN F KENNEDY MIDDLE SCHOOL  2022   \n",
       "9546     800000037695  580203020004  JOHN F KENNEDY MIDDLE SCHOOL  2022   \n",
       "9558     800000034961  661904030005            PARK AVENUE SCHOOL  2022   \n",
       "10167    800000037785  580106030003            PARK AVENUE SCHOOL  2022   \n",
       "\n",
       "       PUPIL_COUNT_TOT  FEDERAL_EXP  PER_FEDERAL_EXP  STATE_LOCAL_EXP  \\\n",
       "770              287.0     210876.0            735.0        4532700.0   \n",
       "1127             679.0      67955.0            100.0       15722849.0   \n",
       "1207             312.0      84026.0            269.0        4738904.0   \n",
       "1559             426.0     216904.0            509.0        6098639.0   \n",
       "3318             653.0     413625.0            633.0       15759588.0   \n",
       "3687             796.0     267591.0            336.0       14911613.0   \n",
       "4469             695.0     188333.0            271.0       15182079.0   \n",
       "4781             673.0     854626.0           1270.0        7344290.0   \n",
       "6246             267.0     541691.0           2029.0        4307866.0   \n",
       "7220             300.0     240112.0            800.0        4951397.0   \n",
       "7458             604.0    1931385.0           3198.0       12282794.0   \n",
       "7592             676.0     437780.0            648.0       13840021.0   \n",
       "8339             703.0    1338655.0           1904.0        7620350.0   \n",
       "9546             806.0     475542.0            590.0       15486925.0   \n",
       "9558             424.0     350398.0            826.0        6782263.0   \n",
       "10167            647.0     585824.0            905.0       10860674.0   \n",
       "\n",
       "       PER_STATE_LOCAL_EXP  FED_STATE_LOCAL_EXP  PER_FED_STATE_LOCAL_EXP  \\\n",
       "770                15793.0            4743576.0                  16528.0   \n",
       "1127               23156.0           15790804.0                  23256.0   \n",
       "1207               15189.0            4822930.0                  15458.0   \n",
       "1559               14316.0            6315543.0                  14825.0   \n",
       "3318               24134.0           16173212.0                  24768.0   \n",
       "3687               18733.0           15179205.0                  19069.0   \n",
       "4469               21845.0           15370412.0                  22116.0   \n",
       "4781               10913.0            8198916.0                  12183.0   \n",
       "6246               16134.0            4849557.0                  18163.0   \n",
       "7220               16505.0            5191509.0                  17305.0   \n",
       "7458               20336.0           14214179.0                  23533.0   \n",
       "7592               20473.0           14277800.0                  21121.0   \n",
       "8339               10840.0            8959005.0                  12744.0   \n",
       "9546               19215.0           15962467.0                  19805.0   \n",
       "9558               15996.0            7132661.0                  16822.0   \n",
       "10167              16786.0           11446498.0                  17692.0   \n",
       "\n",
       "      DATA_REPORTED_ENR DATA_REPORTED_EXP  \n",
       "770                   Y                 Y  \n",
       "1127                  Y                 Y  \n",
       "1207                  Y                 Y  \n",
       "1559                  Y                 Y  \n",
       "3318                  Y                 Y  \n",
       "3687                  Y                 Y  \n",
       "4469                  Y                 Y  \n",
       "4781                  Y                 Y  \n",
       "6246                  Y                 Y  \n",
       "7220                  Y                 Y  \n",
       "7458                  Y                 Y  \n",
       "7592                  Y                 Y  \n",
       "8339                  Y                 Y  \n",
       "9546                  Y                 Y  \n",
       "9558                  Y                 Y  \n",
       "10167                 Y                 Y  "
      ]
     },
     "execution_count": 46,
     "metadata": {},
     "output_type": "execute_result"
    }
   ],
   "source": [
    "df_epp.loc[df_epp.ENTITY_NAME.isin([\"PARK AVENUE SCHOOL\", \"JOHN F KENNEDY MIDDLE SCHOOL\"])]"
   ]
  },
  {
   "cell_type": "code",
   "execution_count": 43,
   "metadata": {},
   "outputs": [
    {
     "data": {
      "text/plain": [
       "Index(['INSTITUTION_ID', 'ENTITY_CD', 'ENTITY_NAME', 'YEAR', 'PUPIL_COUNT_TOT',\n",
       "       'FEDERAL_EXP', 'PER_FEDERAL_EXP', 'STATE_LOCAL_EXP',\n",
       "       'PER_STATE_LOCAL_EXP', 'FED_STATE_LOCAL_EXP', 'PER_FED_STATE_LOCAL_EXP',\n",
       "       'DATA_REPORTED_ENR', 'DATA_REPORTED_EXP'],\n",
       "      dtype='object')"
      ]
     },
     "execution_count": 43,
     "metadata": {},
     "output_type": "execute_result"
    }
   ],
   "source": [
    "df_epp.columns"
   ]
  }
 ],
 "metadata": {
  "kernelspec": {
   "display_name": "Python 3",
   "language": "python",
   "name": "python3"
  },
  "language_info": {
   "codemirror_mode": {
    "name": "ipython",
    "version": 3
   },
   "file_extension": ".py",
   "mimetype": "text/x-python",
   "name": "python",
   "nbconvert_exporter": "python",
   "pygments_lexer": "ipython3",
   "version": "3.12.0"
  }
 },
 "nbformat": 4,
 "nbformat_minor": 2
}
