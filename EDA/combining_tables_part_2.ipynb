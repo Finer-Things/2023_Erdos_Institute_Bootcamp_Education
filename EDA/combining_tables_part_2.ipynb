{
 "cells": [
  {
   "cell_type": "code",
   "execution_count": 1,
   "metadata": {},
   "outputs": [],
   "source": [
    "import pandas as pd\n",
    "import matplotlib as mpl\n",
    "import matplotlib.pyplot as plt\n",
    "import seaborn as sns\n",
    "import numpy as np"
   ]
  },
  {
   "cell_type": "markdown",
   "metadata": {},
   "source": [
    "### Creating the Dataframes"
   ]
  },
  {
   "cell_type": "code",
   "execution_count": 19,
   "metadata": {},
   "outputs": [],
   "source": [
    "df_epp = pd.read_excel(\"../Data/SRC2022/Expenditures Per Pupil.xlsx\")\n",
    "df_nxp = pd.read_excel(\"../Data/SRC2022/Inexperienced Teachers and Principals.xlsx\")\n",
    "df_ocert = pd.read_excel(\"../Data/SRC2022/Teachers Teaching Out of Certification.xlsx\")\n",
    "df_y = pd.read_excel(\"../Data/SRC2022/Annual Regents Exams.xlsx\")"
   ]
  },
  {
   "cell_type": "markdown",
   "metadata": {},
   "source": [
    "### Trimming Dataframes\n",
    "#### Defining a Trimming Function"
   ]
  },
  {
   "cell_type": "code",
   "execution_count": 20,
   "metadata": {},
   "outputs": [],
   "source": [
    "def trimmer(df: pd.DataFrame, *column_names, year: int=2022, year_col_name: str=\"YEAR\")->pd.DataFrame:\n",
    "    \"\"\"\n",
    "    Keeps only the columns specified, only the rows whose year agrees with the year argument, \n",
    "    and if there is a SUBGROUP column then it keeps only rows with the subgroup classification \n",
    "    of \"All Students\". \n",
    "    This is NOT an in-place method. \n",
    "    \"\"\"\n",
    "    # Trimming Rows\n",
    "    if year_col_name in df.columns:\n",
    "        df = df.loc[df[year_col_name]==year]\n",
    "    if \"SUBGROUP\" in df.columns:\n",
    "        df = df.loc[df[\"SUBGROUP\"]==\"All Students\"] #<-----This drops all rows that do not have \"All Students\" as the \"SUBGROUP\" column entry. \n",
    "    # Trimming Columns\n",
    "    return df[list(column_names)]"
   ]
  },
  {
   "cell_type": "markdown",
   "metadata": {},
   "source": [
    "### Applying the Trimming Function"
   ]
  },
  {
   "cell_type": "code",
   "execution_count": 21,
   "metadata": {},
   "outputs": [],
   "source": [
    "# Expenditures Per Pupil: Keep only rows with the year 2021 and keeping only school ID, Name and Normalized Expenditures\n",
    "df_epp = trimmer(df_epp, 'INSTITUTION_ID', 'ENTITY_NAME', 'PER_FED_STATE_LOCAL_EXP', year=2022)\n",
    "df_nxp = trimmer(df_nxp, 'INSTITUTION_ID', 'ENTITY_NAME', 'PER_TEACH_INEXP', year=2022)\n",
    "df_ocert = trimmer(df_ocert, 'INSTITUTION_ID', 'ENTITY_NAME', \"PER_OUT_CERT\", year=2022)\n",
    "df_y = trimmer(df_y.loc[df_y.ENTITY_CD%10000 != 0], 'ENTITY_CD', 'ENTITY_NAME', 'SUBJECT', year=2022)\n",
    "\n",
    "\n",
    "## Original Code Line without the trimmer function\n",
    "## # df_epp = df_epp.loc[df_epp[\"YEAR\"]==2021][['INSTITUTION_ID', 'ENTITY_NAME', 'PER_FED_STATE_LOCAL_EXP']]"
   ]
  },
  {
   "cell_type": "markdown",
   "metadata": {},
   "source": [
    "#### Observation: Look at the shapes of each dataframe. The first three are close but the last is almost 4 times as big as the first 3. "
   ]
  },
  {
   "cell_type": "code",
   "execution_count": 60,
   "metadata": {},
   "outputs": [
    {
     "name": "stdout",
     "output_type": "stream",
     "text": [
      "(5435, 3)\n",
      "(5468, 3)\n",
      "(5468, 3)\n",
      "(23242, 3)\n",
      "5435\n",
      "5468\n",
      "5468\n",
      "2139\n"
     ]
    }
   ],
   "source": [
    "dataframes_list = [df_epp, df_nxp, df_ocert, df_y]\n",
    "for df in dataframes_list:\n",
    "    print(df.shape)\n",
    "for df in dataframes_list[:-1]:\n",
    "    print(len(df.INSTITUTION_ID.unique()))\n",
    "print(len(df_y.ENTITY_CD.unique()))"
   ]
  },
  {
   "cell_type": "markdown",
   "metadata": {},
   "source": [
    "#### Let's look to see how well the school names and id's overlap. "
   ]
  },
  {
   "cell_type": "code",
   "execution_count": 23,
   "metadata": {},
   "outputs": [
    {
     "name": "stdout",
     "output_type": "stream",
     "text": [
      "School IDs in Expenditures Per Pupil but not in Inexperienced Teachers or Principles and Teachers Teaching Out of Certification (respectively):\n",
      "[] []\n",
      "\n",
      " \n",
      "\n",
      "School IDs in Inexperienced Teachers or Principles and Teachers Teaching Out of Certification (respectively) but not in Expenditures Per Pupil:\n",
      "[800000042056, 800000042344, 800000042522, 800000042781, 800000042958, 800000043080, 800000043248, 800000043407, 800000043653, 800000043733, 800000043961, 800000044121, 800000044422, 800000044521, 800000044661, 800000044895, 800000044965, 800000045191, 800000045345, 800000045563, 800000045779, 800000046011, 800000046274, 800000046428, 800000046547, 800000046647, 800000047032, 800000047161, 800000047245, 800000047476, 800000048410, 800000048532, 800000057444]\n",
      "[800000042056, 800000042344, 800000042522, 800000042781, 800000042958, 800000043080, 800000043248, 800000043407, 800000043653, 800000043733, 800000043961, 800000044121, 800000044422, 800000044521, 800000044661, 800000044895, 800000044965, 800000045191, 800000045345, 800000045563, 800000045779, 800000046011, 800000046274, 800000046428, 800000046547, 800000046647, 800000047032, 800000047161, 800000047245, 800000047476, 800000048410, 800000048532, 800000057444]\n",
      "\n",
      " \n",
      "\n"
     ]
    }
   ],
   "source": [
    "# The first dataframe is smaller. Let's check to make sure it doesn't have any school names or ids that the other two don't have.\n",
    "extra_epp_ids_list_1 = [id for id in df_epp.INSTITUTION_ID.unique() if not id in df_nxp.INSTITUTION_ID.unique()]\n",
    "extra_epp_ids_list_2 = [id for id in df_epp.INSTITUTION_ID.unique() if not id in df_ocert.INSTITUTION_ID.unique()]\n",
    "print(\"School IDs in Expenditures Per Pupil but not in Inexperienced Teachers or Principles and Teachers Teaching Out of Certification (respectively):\")\n",
    "print(extra_epp_ids_list_1, extra_epp_ids_list_2)\n",
    "print(\"\\n \\n\")\n",
    "\n",
    "# Now let's take a look at the missing ids missing the other way around. \n",
    "missing_epp_ids_list_1 = [id for id in df_nxp.INSTITUTION_ID.unique() if not id in df_epp.INSTITUTION_ID.unique()]\n",
    "missing_epp_ids_list_2 = [id for id in df_ocert.INSTITUTION_ID.unique() if not id in df_epp.INSTITUTION_ID.unique()]\n",
    "print(\"School IDs in Inexperienced Teachers or Principles and Teachers Teaching Out of Certification (respectively) but not in Expenditures Per Pupil:\")\n",
    "print(sorted(missing_epp_ids_list_1), sorted(missing_epp_ids_list_2), sep=\"\\n\")\n",
    "print(\"\\n \\n\")"
   ]
  },
  {
   "cell_type": "code",
   "execution_count": 57,
   "metadata": {},
   "outputs": [
    {
     "name": "stdout",
     "output_type": "stream",
     "text": [
      "2062\n",
      "2128\n"
     ]
    }
   ],
   "source": [
    "extra_y_ids_list_1 = [unique_entry for unique_entry in df_y.ENTITY_NAME.unique() if unique_entry in df_epp.ENTITY_NAME.unique()]\n",
    "print(len(extra_y_ids_list_1))\n",
    "print(len(df_y.ENTITY_NAME.unique()))"
   ]
  },
  {
   "cell_type": "code",
   "execution_count": 36,
   "metadata": {},
   "outputs": [
    {
     "name": "stdout",
     "output_type": "stream",
     "text": [
      "['NAPLES HIGH SCHOOL']\n",
      "['NAPLES CSD', 'NAPLES HIGH SCHOOL', 'NAPLES ELEMENTARY SCHOOL', 'NAPLES STREET ELEMENTARY SCHOOL']\n"
     ]
    }
   ],
   "source": [
    "print([school_name for school_name in df_y.ENTITY_NAME.unique() if \"NAPLES\" in school_name])\n",
    "print([school_name for school_name in df_epp.ENTITY_NAME.unique() if \"NAPLES\" in school_name])"
   ]
  },
  {
   "cell_type": "markdown",
   "metadata": {},
   "source": [
    "#### So far so good! Out of the first three dataframes, we are only missing a few schools and those schools match perfectly between the two tables that have them. "
   ]
  },
  {
   "cell_type": "code",
   "execution_count": 15,
   "metadata": {},
   "outputs": [
    {
     "data": {
      "text/plain": [
       "2139"
      ]
     },
     "execution_count": 15,
     "metadata": {},
     "output_type": "execute_result"
    }
   ],
   "source": [
    "len(df_y.ENTITY_CD.unique())"
   ]
  }
 ],
 "metadata": {
  "kernelspec": {
   "display_name": "Python 3",
   "language": "python",
   "name": "python3"
  },
  "language_info": {
   "codemirror_mode": {
    "name": "ipython",
    "version": 3
   },
   "file_extension": ".py",
   "mimetype": "text/x-python",
   "name": "python",
   "nbconvert_exporter": "python",
   "pygments_lexer": "ipython3",
   "version": "3.12.0"
  }
 },
 "nbformat": 4,
 "nbformat_minor": 2
}
