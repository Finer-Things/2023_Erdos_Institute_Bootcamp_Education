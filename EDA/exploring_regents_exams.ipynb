{
 "cells": [
  {
   "cell_type": "code",
   "execution_count": 1,
   "metadata": {},
   "outputs": [],
   "source": [
    "import pandas as pd\n",
    "import matplotlib as mpl\n",
    "import matplotlib.pyplot as plt\n",
    "import seaborn as sns\n",
    "import numpy as np"
   ]
  },
  {
   "cell_type": "code",
   "execution_count": 2,
   "metadata": {},
   "outputs": [],
   "source": [
    "df_y = pd.read_excel(\"../Data/SRC2022/Annual Regents Exams.xlsx\")"
   ]
  },
  {
   "cell_type": "code",
   "execution_count": 3,
   "metadata": {},
   "outputs": [
    {
     "data": {
      "text/plain": [
       "Index(['INSTITUTION_ID', 'ENTITY_CD', 'ENTITY_NAME', 'YEAR', 'SUBJECT',\n",
       "       'SUBGROUP_NAME', 'TESTED', 'NUM_LEVEL1', 'PER_LEVEL1', 'NUM_LEVEL2',\n",
       "       'PER_LEVEL2', 'NUM_LEVEL3', 'PER_LEVEL3', 'NUM_LEVEL4', 'PER_LEVEL4',\n",
       "       'NUM_LEVEL5', 'PER_LEVEL5', 'NUM_PROF', 'PER_PROF', 'TOTAL_EXEMPT',\n",
       "       'NUM_EXEMPT_NTEST', 'PCT_EXEMPT_NTEST', 'NUM_EXEMPT_TEST',\n",
       "       'PCT_EXEMPT_TEST', 'ASSMNT_FLAG'],\n",
       "      dtype='object')"
      ]
     },
     "execution_count": 3,
     "metadata": {},
     "output_type": "execute_result"
    }
   ],
   "source": [
    "df_y.columns"
   ]
  },
  {
   "cell_type": "code",
   "execution_count": 4,
   "metadata": {},
   "outputs": [
    {
     "name": "stdout",
     "output_type": "stream",
     "text": [
      "ENTITY_NAME\n",
      "PINE VALLEY CENTRAL JR-SR HIGH SCH     212\n",
      "WESTFIELD HIGH SCHOOL                  195\n",
      "GREEN TECH HIGH CHARTER SCHOOL         193\n",
      "COLONIE CENTRAL HIGH SCHOOL            192\n",
      "MAINE-ENDWELL SENIOR HS                183\n",
      "                                      ... \n",
      "PS/MS 280 MOSHOLU PARKWAY                1\n",
      "RIVERTON STREET CHARTER SCHOOL           1\n",
      "PS 279 CAPT MANUEL RIVERA JR             1\n",
      "NEW SCHOOL-LEADERSHIP & JOURNAL          1\n",
      "BEDFORD STUY NEW BEGINNINGS CHARTER      1\n",
      "Name: count, Length: 2332, dtype: int64\n",
      " \n",
      "ENTITY_CD\n",
      "60601040003     212\n",
      "62901040002     195\n",
      "10100860907     193\n",
      "10601060008     192\n",
      "31101060006     192\n",
      "               ... \n",
      "320700011495      1\n",
      "342900010355      1\n",
      "332300010668      1\n",
      "332300010671      1\n",
      "320800010337      1\n",
      "Name: count, Length: 2221, dtype: int64\n",
      " \n"
     ]
    }
   ],
   "source": [
    "print(df_y.loc[df_y.ENTITY_CD%10000 != 0].ENTITY_NAME.value_counts(), sep=\"\\n\", end=\"\\n \\n\")\n",
    "print(df_y.loc[df_y.ENTITY_CD%10000 != 0].ENTITY_CD.value_counts(), sep=\"\\n\", end=\"\\n \\n\")\n",
    "\n",
    "\n",
    "# df_y.iloc[].SUBGROUP_NAME.value_counts()"
   ]
  },
  {
   "cell_type": "code",
   "execution_count": 5,
   "metadata": {},
   "outputs": [
    {
     "name": "stdout",
     "output_type": "stream",
     "text": [
      "SUBGROUP_NAME\n",
      "All Students    1313\n",
      "Name: count, dtype: int64\n",
      " \n"
     ]
    }
   ],
   "source": [
    "print(df_y.loc[df_y.ENTITY_CD%10000 != 0].loc[df_y.SUBGROUP_NAME == \"All Students\"].SUBGROUP_NAME.value_counts(), sep=\"\\n\", end=\"\\n \\n\")"
   ]
  },
  {
   "cell_type": "code",
   "execution_count": 6,
   "metadata": {},
   "outputs": [
    {
     "name": "stdout",
     "output_type": "stream",
     "text": [
      "SUBJECT\n",
      "Regents Common Core Algebra I               10882\n",
      "Regents Living Environment                   6811\n",
      "Regents Phy Set/Earth Sci                    5516\n",
      "Regents Common Core English Language Art     4636\n",
      "Regents Common Core Geometry                 2409\n",
      "Regents Phy Set/Chemistry                    2367\n",
      "Regents Common Core Algebra II               2321\n",
      "Regents NF Global History                    2198\n",
      "Regents Phy Set/Physics                      1964\n",
      "Name: count, dtype: int64\n",
      " \n"
     ]
    }
   ],
   "source": [
    "print(df_y.loc[df_y.ENTITY_CD%10000 != 0].SUBJECT.value_counts(), sep=\"\\n\", end=\"\\n \\n\")"
   ]
  },
  {
   "cell_type": "code",
   "execution_count": 7,
   "metadata": {},
   "outputs": [
    {
     "name": "stdout",
     "output_type": "stream",
     "text": [
      "<class 'pandas.core.frame.DataFrame'>\n",
      "RangeIndex: 65534 entries, 0 to 65533\n",
      "Data columns (total 25 columns):\n",
      " #   Column            Non-Null Count  Dtype  \n",
      "---  ------            --------------  -----  \n",
      " 0   INSTITUTION_ID    61558 non-null  float64\n",
      " 1   ENTITY_CD         65534 non-null  int64  \n",
      " 2   ENTITY_NAME       65534 non-null  object \n",
      " 3   YEAR              65534 non-null  int64  \n",
      " 4   SUBJECT           65534 non-null  object \n",
      " 5   SUBGROUP_NAME     65534 non-null  object \n",
      " 6   TESTED            65534 non-null  int64  \n",
      " 7   NUM_LEVEL1        65534 non-null  object \n",
      " 8   PER_LEVEL1        65534 non-null  object \n",
      " 9   NUM_LEVEL2        65534 non-null  object \n",
      " 10  PER_LEVEL2        65534 non-null  object \n",
      " 11  NUM_LEVEL3        65534 non-null  object \n",
      " 12  PER_LEVEL3        65534 non-null  object \n",
      " 13  NUM_LEVEL4        65534 non-null  object \n",
      " 14  PER_LEVEL4        65534 non-null  object \n",
      " 15  NUM_LEVEL5        65534 non-null  object \n",
      " 16  PER_LEVEL5        65534 non-null  object \n",
      " 17  NUM_PROF          65534 non-null  object \n",
      " 18  PER_PROF          65534 non-null  object \n",
      " 19  TOTAL_EXEMPT      43811 non-null  float64\n",
      " 20  NUM_EXEMPT_NTEST  43811 non-null  float64\n",
      " 21  PCT_EXEMPT_NTEST  10444 non-null  float64\n",
      " 22  NUM_EXEMPT_TEST   43811 non-null  float64\n",
      " 23  PCT_EXEMPT_TEST   10444 non-null  float64\n",
      " 24  ASSMNT_FLAG       0 non-null      float64\n",
      "dtypes: float64(7), int64(3), object(15)\n",
      "memory usage: 12.5+ MB\n"
     ]
    }
   ],
   "source": [
    "df_y.info()"
   ]
  }
 ],
 "metadata": {
  "kernelspec": {
   "display_name": "Python 3",
   "language": "python",
   "name": "python3"
  },
  "language_info": {
   "codemirror_mode": {
    "name": "ipython",
    "version": 3
   },
   "file_extension": ".py",
   "mimetype": "text/x-python",
   "name": "python",
   "nbconvert_exporter": "python",
   "pygments_lexer": "ipython3",
   "version": "3.12.0"
  }
 },
 "nbformat": 4,
 "nbformat_minor": 2
}
