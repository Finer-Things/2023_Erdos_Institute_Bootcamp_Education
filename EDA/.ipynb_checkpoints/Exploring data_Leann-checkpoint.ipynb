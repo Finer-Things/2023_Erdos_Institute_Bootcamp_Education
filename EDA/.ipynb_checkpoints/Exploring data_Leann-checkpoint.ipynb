{
 "cells": [
  {
   "cell_type": "code",
   "execution_count": null,
   "id": "b1c9d2bb",
   "metadata": {},
   "outputs": [],
   "source": [
    "import matplotlib as mpl\n",
    "import math \n",
    "import pandas as pd\n",
    "import seaborn as sns\n",
    "import matplotlib.pyplot as plt\n",
    "import numpy as np"
   ]
  },
  {
   "cell_type": "code",
   "execution_count": null,
   "id": "517e7ff3",
   "metadata": {},
   "outputs": [],
   "source": [
    "#reading in data, input your own file directory\n",
    "\n",
    "#High School Data\n",
    "#Absenteeism Rates, High School\n",
    "dfab_HS = pd.read_excel(\"/Users/leannmclaren/Box Sync/Erdos Institute/2023_Erdos_Institute_Bootcamp_Education/Data/SRC2022/ACC HS Chronic Absenteeism.xlsx\")\n",
    "#Graduation Rate, High School \n",
    "dfgradr_HS = pd.read_excel(\"/Users/leannmclaren/Box Sync/Erdos Institute/2023_Erdos_Institute_Bootcamp_Education/Data/SRC2022/ACC HS Graduation Rate.xlsx\")\n",
    "#Core Subject Performance Rates, High School \n",
    "dfCSPR_HS = pd.read_excel(\"/Users/leannmclaren/Box Sync/Erdos Institute/2023_Erdos_Institute_Bootcamp_Education/Data/SRC2022/ACC HS Core and Weighted Performance.xlsx\")\n",
    "#participation Rate\n",
    "dfPR_HS = pd.read_excel(\"/Users/leannmclaren/Box Sync/Erdos Institute/2023_Erdos_Institute_Bootcamp_Education/Data/SRC2022/ACC HS Participation Rate.xlsx\")\n",
    "\n",
    "\n",
    "\n",
    "\n",
    "\n",
    "#Elementary and Middle School Data \n",
    "#Participation Rates, Elementary and Middle\n",
    "dfPR_EM = pd.read_excel(\"/Users/leannmclaren/Box Sync/Erdos Institute/2023_Erdos_Institute_Bootcamp_Education/Data/SRC2022/ACC EM Participation Rate.xlsx\")\n",
    "#Core Subject Performance Rates, Elementary and Middle \n",
    "dfCSPR_EM = pd.read_excel(\"/Users/leannmclaren/Box Sync/Erdos Institute/2023_Erdos_Institute_Bootcamp_Education/Data/SRC2022/ACC EM Core and Weighted Performance.xlsx\")\n",
    "\n",
    "\n",
    "#Staff Data\n",
    "#post secondary enrollment, high school\n",
    "dfPSE_HS = pd.read_excel(\"/Users/leannmclaren/Box Sync/Erdos Institute/2023_Erdos_Institute_Bootcamp_Education/Data/SRC2022/Postsecondary Enrollment.xlsx\")"
   ]
  },
  {
   "cell_type": "code",
   "execution_count": null,
   "id": "1761b517",
   "metadata": {},
   "outputs": [],
   "source": [
    "dfab_HS.head(5)"
   ]
  },
  {
   "cell_type": "code",
   "execution_count": 5,
   "id": "1d98643f",
   "metadata": {},
   "outputs": [],
   "source": [
    "def trimmer(df: pd.DataFrame, *column_names, year: int=2022, year_col_name: str=\"YEAR\")->pd.DataFrame:\n",
    "    \"\"\"\n",
    "    Keeps only the columns specified, only the rows whose year agrees with the year argument, \n",
    "    and if there is a SUBGROUP column then it keeps only rows with the subgroup classification \n",
    "    of \"All Students\". \n",
    "    This is NOT an in-place method. \n",
    "    \"\"\"\n",
    "    # Trimming Rows\n",
    "    if year_col_name in df.columns:\n",
    "        df = df.loc[df[year_col_name]==year]\n",
    "    if \"SUBGROUP_NAME\" in df.columns:\n",
    "        df = df.loc[df[\"SUBGROUP_NAME\"]==\"All Students\"] #<-----This drops all rows that do not have \"All Students\" as the \"SUBGROUP\" column entry. \n",
    "    # Trimming Columns\n",
    "    return df[list(column_names)]"
   ]
  },
  {
   "cell_type": "code",
   "execution_count": 6,
   "id": "299286e9",
   "metadata": {},
   "outputs": [
    {
     "name": "stdout",
     "output_type": "stream",
     "text": [
      "       INSTITUTION_ID                           ENTITY_NAME ABSENT_RATE  \\\n",
      "18970    800000055729                        ALBANY CITY SD        60.5   \n",
      "18980    800000055743                    ALBANY HIGH SCHOOL        60.7   \n",
      "18991    800000055478               BERNE-KNOX-WESTERLO CSD        22.6   \n",
      "19001    800000055479  BERNE-KNOX-WESTERLO JUNIOR-SENIOR HS        22.6   \n",
      "19011    800000055452                         BETHLEHEM CSD        14.9   \n",
      "\n",
      "      DATA_REP_FLAG  \n",
      "18970             Y  \n",
      "18980             Y  \n",
      "18991             Y  \n",
      "19001             Y  \n",
      "19011             Y  \n",
      "    INSTITUTION_ID         ENTITY_NAME GRAD_RATE\n",
      "21    800000055729      ALBANY CITY SD      79.6\n",
      "23    800000055729      ALBANY CITY SD      76.3\n",
      "26    800000055729      ALBANY CITY SD        77\n",
      "28    800000055729      ALBANY CITY SD      77.6\n",
      "66    800000055743  ALBANY HIGH SCHOOL      78.6\n",
      "   INSTITUTION_ID     ENTITY_NAME CORE_INDEX   SUBJECT\n",
      "0    800000055729  ALBANY CITY SD        184       ELA\n",
      "1    800000055729  ALBANY CITY SD      118.4      MATH\n",
      "2    800000055729  ALBANY CITY SD      164.5   SCIENCE\n",
      "3    800000055729  ALBANY CITY SD      148.7    SOCIAL\n",
      "4    800000055729  ALBANY CITY SD      153.9  Combined\n",
      "    INSTITUTION_ID                     ENTITY_NAME  SUBJECT  RATE\n",
      "0     800000055729                  ALBANY CITY SD   HS ELA  19.8\n",
      "1     800000055729                  ALBANY CITY SD  HS MATH  82.3\n",
      "20    800000055743              ALBANY HIGH SCHOOL   HS ELA  19.5\n",
      "21    800000055743              ALBANY HIGH SCHOOL  HS MATH  82.9\n",
      "40    800000059776  GREEN TECH HIGH CHARTER SCHOOL   HS ELA  55.4\n",
      "    INSTITUTION_ID                       ENTITY_NAME  RATE MET_95_PERCENT\n",
      "15    800000055743                ALBANY HIGH SCHOOL     s              s\n",
      "16    800000055743                ALBANY HIGH SCHOOL     s              s\n",
      "35    800000055764      ARBOR HILL ELEMENTARY SCHOOL  91.8              N\n",
      "36    800000055764      ARBOR HILL ELEMENTARY SCHOOL    89              N\n",
      "55    800000058130  P J SCHUYLER ACHIEVEMENT ACADEMY  99.3              Y\n",
      "    INSTITUTION_ID               ENTITY_NAME CORE_INDEX   SUBJECT\n",
      "0     800000055729            ALBANY CITY SD       90.5       ELA\n",
      "1     800000055729            ALBANY CITY SD         67      Math\n",
      "2     800000055729            ALBANY CITY SD      143.9   Science\n",
      "3     800000055729            ALBANY CITY SD       88.1  Combined\n",
      "40    800000055730  MONTESSORI MAGNET SCHOOL      144.1       ELA\n",
      "    INSTITUTION_ID                         ENTITY_NAME  TOTAL_GRAD_COUNT  \\\n",
      "7              NaN  High Need/Resource Rural Districts              9746   \n",
      "30             NaN              Average Need Districts             55939   \n",
      "53             NaN                  Low Need Districts             30665   \n",
      "76             NaN                     Charter Schools              6209   \n",
      "97             NaN                       ALBANY County              2815   \n",
      "\n",
      "   PER_NYS_PUB_4_YR PER_NYS_PVT_4_YR PER_NYS_PUB_2_YR PER_NYS_PVT_2_YR  \n",
      "7                16               10               19               00  \n",
      "30               20               15               21               00  \n",
      "53               22               19               12               00  \n",
      "76               29               12               15               00  \n",
      "97               17               17               21               00  \n"
     ]
    }
   ],
   "source": [
    "# Trimming data to variables I believe I only need\n",
    "#high school dat\n",
    "dfab_HS = trimmer(dfab_HS, 'INSTITUTION_ID', 'ENTITY_NAME', \"ABSENT_RATE\", \"DATA_REP_FLAG\", year=2022)\n",
    "dfgradr_HS = trimmer(dfgradr_HS, 'INSTITUTION_ID', 'ENTITY_NAME', 'GRAD_RATE', year=2022)\n",
    "dfCSPR_HS = trimmer(dfCSPR_HS, 'INSTITUTION_ID', 'ENTITY_NAME', \"CORE_INDEX\", \"SUBJECT\", year=2022)\n",
    "dfPR_HS = trimmer(dfPR_HS, 'INSTITUTION_ID', 'ENTITY_NAME', \"SUBJECT\", \"RATE\", year=2022)\n",
    "\n",
    "\n",
    "\n",
    "#elementary and middle school data\n",
    "dfPR_EM = trimmer(dfPR_EM, 'INSTITUTION_ID', 'ENTITY_NAME', \"RATE\",\"MET_95_PERCENT\", year=2022)\n",
    "dfCSPR_EM = trimmer(dfCSPR_EM, 'INSTITUTION_ID', 'ENTITY_NAME', 'CORE_INDEX', \"SUBJECT\", year=2022)\n",
    "\n",
    "#post secondary enrollment\n",
    "dfPSE_HS = trimmer(dfPSE_HS, 'INSTITUTION_ID', 'ENTITY_NAME', \"TOTAL_GRAD_COUNT\", \"PER_NYS_PUB_4_YR\", \n",
    "                   \"PER_NYS_PVT_4_YR\", \"PER_NYS_PUB_2_YR\", \"PER_NYS_PVT_2_YR\", year=2022)\n",
    "\n",
    "#Checking\n",
    "print(dfab_HS.head())\n",
    "print(dfgradr_HS.head())\n",
    "print(dfCSPR_HS.head())\n",
    "print(dfPR_HS.head())\n",
    "print(dfPR_EM.head())\n",
    "print(dfCSPR_EM.head())\n",
    "print(dfPSE_HS.head())\n"
   ]
  },
  {
   "cell_type": "code",
   "execution_count": null,
   "id": "8b734625",
   "metadata": {},
   "outputs": [],
   "source": [
    "#exploring data\n",
    "#looking at columns\n",
    "dfab_HS.columns\n",
    "\n",
    "\n",
    "#looking at value counts\n",
    "\n",
    "\n",
    "print(dfab_HS[\"ABSENT_RATE\"].value_counts())\n",
    "\n",
    "print(dfgradr_HS[\"GRAD_RATE\"].value_counts())\n",
    "\n",
    "print(dfCSPR_HS[\"CORE_INDEX\"].value_counts())\n",
    "\n",
    "print(dfPR_HS[\"RATE\"].value_counts())\n",
    "\n",
    "print(dfPR_EM[\"RATE\"].value_counts())\n",
    "\n",
    "#print(dfCSPR_EM[\"ENTITY_NAME\"].value_counts())\n",
    "\n",
    "print(dfPSE_HS[\"CORE_INDEX\"].value_counts())\n",
    "# Not sure why some schools are repeating twice\n",
    "\n",
    "\n"
   ]
  },
  {
   "cell_type": "code",
   "execution_count": 1,
   "id": "fa76d5e4",
   "metadata": {},
   "outputs": [],
   "source": [
    "#looking at scores among all students\n"
   ]
  },
  {
   "cell_type": "code",
   "execution_count": null,
   "id": "7048ca3d",
   "metadata": {
    "scrolled": true
   },
   "outputs": [],
   "source": []
  },
  {
   "cell_type": "code",
   "execution_count": null,
   "id": "edf0eb5e",
   "metadata": {},
   "outputs": [],
   "source": [
    "\n"
   ]
  },
  {
   "cell_type": "code",
   "execution_count": null,
   "id": "bb775afc",
   "metadata": {},
   "outputs": [],
   "source": []
  }
 ],
 "metadata": {
  "kernelspec": {
   "display_name": "Python 3 (ipykernel)",
   "language": "python",
   "name": "python3"
  },
  "language_info": {
   "codemirror_mode": {
    "name": "ipython",
    "version": 3
   },
   "file_extension": ".py",
   "mimetype": "text/x-python",
   "name": "python",
   "nbconvert_exporter": "python",
   "pygments_lexer": "ipython3",
   "version": "3.11.3"
  }
 },
 "nbformat": 4,
 "nbformat_minor": 5
}
