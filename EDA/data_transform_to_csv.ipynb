{
 "cells": [
  {
   "cell_type": "code",
   "execution_count": 1,
   "metadata": {},
   "outputs": [],
   "source": [
    "table_names = [\n",
    "    'ACC EM Chronic Absenteeism', \n",
    "    'ACC EM Core and Weighted Performance', \n",
    "    'ACC EM ELP', \n",
    "    'ACC EM NYSESLAT for Participation', \n",
    "    'ACC EM Participation Rate',\n",
    "    'ACC HS Chronic Absenteeism',\n",
    "    'ACC HS ELP',\n",
    "    'ACC HS Graduation Rate',\n",
    "    'ACC HS Participation Rate',\n",
    "    'Accountability Levels',\n",
    "    'Accountability Status',\n",
    "    'Accountability Status by Subgroup',\n",
    "    'Annual EM ELA',\n",
    "    'Annual EM MATH',\n",
    "    'Annual EM SCIENCE',\n",
    "    'Annual NYSESLAT',\n",
    "    'Annual Regents Exams',\n",
    "    'BOCES and N/RC',\n",
    "    'Expenditures per Pupil',\n",
    "    'Inexperienced Teachers and Principals',\n",
    "    'Institution Grouping',\n",
    "    'Postsecondary Enrollment',\n",
    "    'Teachers Teaching Out of Certification',\n",
    "    'Total Cohort Regents Exams',\n",
    "    'ACC HS Core and Weighted Performance Annual NYSAA '\n",
    "]"
   ]
  },
  {
   "cell_type": "code",
   "execution_count": 2,
   "metadata": {},
   "outputs": [],
   "source": [
    "import subprocess\n",
    "import pandas as pd\n",
    "\n",
    "def show_data(table ='ACC EM Chronic Absenteeism' , path='/Users/.../SRC2022_GroupIV.mdb'):\n",
    "    tables = subprocess.check_output([\"mdb-export\", path, table])\n",
    "    return tables.decode().split('\\n')\n",
    "\n",
    "def convert_df(table, path='/Users/.../SRC2022_GroupIV.mdb'):\n",
    "    data_lines = show_data(table, path)\n",
    "    if not data_lines:\n",
    "        return pd.DataFrame()\n",
    "\n",
    "    # Initialize an empty list to hold the data\n",
    "    data = []\n",
    "\n",
    "    for line in data_lines:\n",
    "        row = line.split(',')\n",
    "        data.append(row)\n",
    "\n",
    "    # Determine the maximum number of columns in the data\n",
    "    num_columns = max(len(row) for row in data)\n",
    "\n",
    "    # Create a DataFrame with the maximum number of columns\n",
    "    df = pd.DataFrame(data, columns=range(num_columns))\n",
    "\n",
    "    return df\n",
    "\n",
    "for table in table_names:\n",
    "    df = convert_df(table)\n",
    "    df.to_csv(f'{table}.csv', index=False)  \n",
    "\n",
    "# Display the DataFrame\n",
    "print(df)\n"
   ]
  }
 ],
 "metadata": {
  "kernelspec": {
   "display_name": "env",
   "language": "python",
   "name": "python3"
  },
  "language_info": {
   "codemirror_mode": {
    "name": "ipython",
    "version": 3
   },
   "file_extension": ".py",
   "mimetype": "text/x-python",
   "name": "python",
   "nbconvert_exporter": "python",
   "pygments_lexer": "ipython3",
   "version": "3.8.8"
  },
  "orig_nbformat": 4
 },
 "nbformat": 4,
 "nbformat_minor": 2
}
