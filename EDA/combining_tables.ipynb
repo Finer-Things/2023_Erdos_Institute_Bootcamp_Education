{
 "cells": [
  {
   "cell_type": "code",
   "execution_count": 1,
   "metadata": {},
   "outputs": [],
   "source": [
    "import pandas as pd\n",
    "import matplotlib as mpl\n",
    "import matplotlib.pyplot as plt\n",
    "import seaborn as sns\n",
    "import numpy as np"
   ]
  },
  {
   "cell_type": "markdown",
   "metadata": {},
   "source": [
    "### Creating the Dataframes"
   ]
  },
  {
   "cell_type": "code",
   "execution_count": 2,
   "metadata": {},
   "outputs": [],
   "source": [
    "df_epp = pd.read_excel(\"../Data/SRC2022/Expenditures Per Pupil.xlsx\")\n",
    "df_nxp = pd.read_excel(\"../Data/SRC2022/Inexperienced Teachers and Principals.xlsx\")\n",
    "df_ocert = pd.read_excel(\"../Data/SRC2022/Teachers Teaching Out of Certification.xlsx\")\n",
    "df_y = pd.read_excel(\"../Data/SRC2022/Annual Regents Exams.xlsx\")"
   ]
  },
  {
   "cell_type": "markdown",
   "metadata": {},
   "source": [
    "### Trimming Dataframes\n",
    "#### Defining a Trimming Function"
   ]
  },
  {
   "cell_type": "code",
   "execution_count": 3,
   "metadata": {},
   "outputs": [],
   "source": [
    "def trimmer(df: pd.DataFrame, *column_names, year: int=2021, year_col_name: str=\"YEAR\")->pd.DataFrame:\n",
    "    \"\"\"\n",
    "    Keeps only the columns specified, only the rows whose year agrees with the year argument, \n",
    "    and if there is a SUBGROUP column then it keeps only rows with the subgroup classification \n",
    "    of \"All Students\". \n",
    "    This is NOT an in-place method. \n",
    "    \"\"\"\n",
    "    # Trimming Rows\n",
    "    if year_col_name in df.columns:\n",
    "        df = df.loc[df[year_col_name]==year]\n",
    "    if \"SUBGROUP\" in df.columns:\n",
    "        df = df.loc[df[\"SUBGROUP\"]==\"All Students\"] #<-----This drops all rows that do not have \"All Students\" as the \"SUBGROUP\" column entry. \n",
    "    # Trimming Columns\n",
    "    return df[list(column_names)]"
   ]
  },
  {
   "cell_type": "markdown",
   "metadata": {},
   "source": [
    "### Applying the Trimming Function"
   ]
  },
  {
   "cell_type": "code",
   "execution_count": 4,
   "metadata": {},
   "outputs": [],
   "source": [
    "# Expenditures Per Pupil: Keep only rows with the year 2021 and keeping only school ID, Name and Normalized Expenditures\n",
    "df_epp = trimmer(df_epp, 'INSTITUTION_ID', 'ENTITY_NAME', 'PER_FED_STATE_LOCAL_EXP', year=2021)\n",
    "df_nxp = trimmer(df_nxp, 'INSTITUTION_ID', 'ENTITY_NAME', 'PER_TEACH_INEXP', year=2021)\n",
    "df_ocert = trimmer(df_ocert, 'INSTITUTION_ID', 'ENTITY_NAME', \"PER_OUT_CERT\", year=2021)\n",
    "df_y = trimmer(df_y, 'ENTITY_CD', 'ENTITY_NAME', 'SUBJECT', year=2021)\n",
    "\n",
    "\n",
    "## Original Code Line without the trimmer function\n",
    "## # df_epp = df_epp.loc[df_epp[\"YEAR\"]==2021][['INSTITUTION_ID', 'ENTITY_NAME', 'PER_FED_STATE_LOCAL_EXP']]"
   ]
  },
  {
   "cell_type": "markdown",
   "metadata": {},
   "source": [
    "#### Observation: Look at the shapes of each dataframe. The first three are close but the last is almost 4 times as big as the first 3. "
   ]
  },
  {
   "cell_type": "code",
   "execution_count": 5,
   "metadata": {},
   "outputs": [
    {
     "name": "stdout",
     "output_type": "stream",
     "text": [
      "(5440, 3)\n",
      "(5473, 3)\n",
      "(5473, 3)\n",
      "(19999, 3)\n"
     ]
    }
   ],
   "source": [
    "dataframes_list = [df_epp, df_nxp, df_ocert, df_y]\n",
    "for df in dataframes_list:\n",
    "    print(df.shape)"
   ]
  },
  {
   "cell_type": "markdown",
   "metadata": {},
   "source": [
    "#### Let's look to see how well the school names and id's overlap. "
   ]
  },
  {
   "cell_type": "code",
   "execution_count": 6,
   "metadata": {},
   "outputs": [
    {
     "name": "stdout",
     "output_type": "stream",
     "text": [
      "School IDs in Expenditures Per Pupil but not in Inexperienced Teachers or Principles and Teachers Teaching Out of Certification (respectively):\n",
      "[] []\n",
      "\n",
      " \n",
      "\n",
      "School IDs in Inexperienced Teachers or Principles and Teachers Teaching Out of Certification (respectively) but not in Expenditures Per Pupil:\n",
      "[800000042056, 800000042344, 800000042522, 800000042781, 800000042958, 800000043080, 800000043248, 800000043407, 800000043653, 800000043733, 800000043961, 800000044121, 800000044422, 800000044521, 800000044661, 800000044895, 800000044965, 800000045191, 800000045345, 800000045563, 800000045779, 800000046011, 800000046274, 800000046428, 800000046547, 800000046647, 800000047032, 800000047161, 800000047245, 800000047476, 800000048410, 800000048532, 800000057444]\n",
      "[800000042056, 800000042344, 800000042522, 800000042781, 800000042958, 800000043080, 800000043248, 800000043407, 800000043653, 800000043733, 800000043961, 800000044121, 800000044422, 800000044521, 800000044661, 800000044895, 800000044965, 800000045191, 800000045345, 800000045563, 800000045779, 800000046011, 800000046274, 800000046428, 800000046547, 800000046647, 800000047032, 800000047161, 800000047245, 800000047476, 800000048410, 800000048532, 800000057444]\n",
      "\n",
      " \n",
      "\n"
     ]
    }
   ],
   "source": [
    "# The first dataframe is smaller. Let's check to make sure it doesn't have any school names or ids that the other two don't have.\n",
    "extra_epp_ids_list_1 = [id for id in df_epp.INSTITUTION_ID.unique() if not id in df_nxp.INSTITUTION_ID.unique()]\n",
    "extra_epp_ids_list_2 = [id for id in df_epp.INSTITUTION_ID.unique() if not id in df_ocert.INSTITUTION_ID.unique()]\n",
    "print(\"School IDs in Expenditures Per Pupil but not in Inexperienced Teachers or Principles and Teachers Teaching Out of Certification (respectively):\")\n",
    "print(extra_epp_ids_list_1, extra_epp_ids_list_2)\n",
    "print(\"\\n \\n\")\n",
    "\n",
    "# Now let's take a look at the missing ids missing the other way around. \n",
    "missing_epp_ids_list_1 = [id for id in df_nxp.INSTITUTION_ID.unique() if not id in df_epp.INSTITUTION_ID.unique()]\n",
    "missing_epp_ids_list_2 = [id for id in df_ocert.INSTITUTION_ID.unique() if not id in df_epp.INSTITUTION_ID.unique()]\n",
    "print(\"School IDs in Inexperienced Teachers or Principles and Teachers Teaching Out of Certification (respectively) but not in Expenditures Per Pupil:\")\n",
    "print(sorted(missing_epp_ids_list_1), sorted(missing_epp_ids_list_2), sep=\"\\n\")\n",
    "print(\"\\n \\n\")"
   ]
  },
  {
   "cell_type": "markdown",
   "metadata": {},
   "source": [
    "#### So far so good! Out of the first three dataframes, we are only missing a few schools and those schools match perfectly between the two tables that have them. "
   ]
  },
  {
   "cell_type": "code",
   "execution_count": 11,
   "metadata": {},
   "outputs": [
    {
     "data": {
      "text/plain": [
       "98"
      ]
     },
     "execution_count": 11,
     "metadata": {},
     "output_type": "execute_result"
    }
   ],
   "source": [
    "len(df_y.ENTITY_CD.unique())"
   ]
  },
  {
   "cell_type": "code",
   "execution_count": 39,
   "metadata": {},
   "outputs": [],
   "source": [
    "df_y = pd.read_excel(\"../Data/SRC2022/Annual Regents Exams.xlsx\")"
   ]
  },
  {
   "cell_type": "code",
   "execution_count": 40,
   "metadata": {},
   "outputs": [
    {
     "data": {
      "text/plain": [
       "Index(['INSTITUTION_ID', 'ENTITY_CD', 'ENTITY_NAME', 'YEAR', 'SUBJECT',\n",
       "       'SUBGROUP_NAME', 'TESTED', 'NUM_LEVEL1', 'PER_LEVEL1', 'NUM_LEVEL2',\n",
       "       'PER_LEVEL2', 'NUM_LEVEL3', 'PER_LEVEL3', 'NUM_LEVEL4', 'PER_LEVEL4',\n",
       "       'NUM_LEVEL5', 'PER_LEVEL5', 'NUM_PROF', 'PER_PROF', 'TOTAL_EXEMPT',\n",
       "       'NUM_EXEMPT_NTEST', 'PCT_EXEMPT_NTEST', 'NUM_EXEMPT_TEST',\n",
       "       'PCT_EXEMPT_TEST', 'ASSMNT_FLAG'],\n",
       "      dtype='object')"
      ]
     },
     "execution_count": 40,
     "metadata": {},
     "output_type": "execute_result"
    }
   ],
   "source": [
    "df_y.columns"
   ]
  },
  {
   "cell_type": "code",
   "execution_count": 41,
   "metadata": {},
   "outputs": [
    {
     "name": "stdout",
     "output_type": "stream",
     "text": [
      "ENTITY_NAME\n",
      "PINE VALLEY CENTRAL JR-SR HIGH SCH     212\n",
      "WESTFIELD HIGH SCHOOL                  195\n",
      "GREEN TECH HIGH CHARTER SCHOOL         193\n",
      "COLONIE CENTRAL HIGH SCHOOL            192\n",
      "MAINE-ENDWELL SENIOR HS                183\n",
      "                                      ... \n",
      "PS/MS 280 MOSHOLU PARKWAY                1\n",
      "RIVERTON STREET CHARTER SCHOOL           1\n",
      "PS 279 CAPT MANUEL RIVERA JR             1\n",
      "NEW SCHOOL-LEADERSHIP & JOURNAL          1\n",
      "BEDFORD STUY NEW BEGINNINGS CHARTER      1\n",
      "Name: count, Length: 2332, dtype: int64\n",
      " \n",
      "ENTITY_CD\n",
      "60601040003     212\n",
      "62901040002     195\n",
      "10100860907     193\n",
      "10601060008     192\n",
      "31101060006     192\n",
      "               ... \n",
      "320700011495      1\n",
      "342900010355      1\n",
      "332300010668      1\n",
      "332300010671      1\n",
      "320800010337      1\n",
      "Name: count, Length: 2221, dtype: int64\n",
      " \n"
     ]
    }
   ],
   "source": [
    "print(df_y.loc[df_y.ENTITY_CD%10000 != 0].ENTITY_NAME.value_counts(), sep=\"\\n\", end=\"\\n \\n\")\n",
    "print(df_y.loc[df_y.ENTITY_CD%10000 != 0].ENTITY_CD.value_counts(), sep=\"\\n\", end=\"\\n \\n\")\n",
    "\n",
    "\n",
    "# df_y.iloc[].SUBGROUP_NAME.value_counts()"
   ]
  },
  {
   "cell_type": "code",
   "execution_count": 42,
   "metadata": {},
   "outputs": [
    {
     "name": "stdout",
     "output_type": "stream",
     "text": [
      "SUBGROUP_NAME\n",
      "Small Group Total                                  14323\n",
      "Not Economically Disadvantaged                      1524\n",
      "Female                                              1484\n",
      "Economically Disadvantaged                          1457\n",
      "Male                                                1439\n",
      "Hispanic or Latino                                  1379\n",
      "General Education Students                          1357\n",
      "Multiracial                                         1349\n",
      "Not Homeless                                        1315\n",
      "Non-English Language Learner                        1315\n",
      "All Students                                        1313\n",
      "Parent Not in Armed Forces                          1312\n",
      "Not Migrant                                         1311\n",
      "Not in Foster Care                                  1305\n",
      "White                                               1295\n",
      "Students with Disabilities                          1241\n",
      "Asian or Native Hawaiian/Other Pacific Islander     1230\n",
      "Black or African American                           1030\n",
      "Homeless                                             651\n",
      "English Language Learner                             511\n",
      "American Indian or Alaska Native                     402\n",
      "In Foster Care                                       237\n",
      "Parent in Armed Forces                               194\n",
      "Migrant                                              130\n",
      "Name: count, dtype: int64\n",
      " \n"
     ]
    }
   ],
   "source": [
    "print(df_y.loc[df_y.ENTITY_CD%10000 != 0].SUBGROUP_NAME.value_counts(), sep=\"\\n\", end=\"\\n \\n\")"
   ]
  },
  {
   "cell_type": "code",
   "execution_count": 43,
   "metadata": {},
   "outputs": [
    {
     "name": "stdout",
     "output_type": "stream",
     "text": [
      "SUBJECT\n",
      "Regents Common Core Algebra I               10882\n",
      "Regents Living Environment                   6811\n",
      "Regents Phy Set/Earth Sci                    5516\n",
      "Regents Common Core English Language Art     4636\n",
      "Regents Common Core Geometry                 2409\n",
      "Regents Phy Set/Chemistry                    2367\n",
      "Regents Common Core Algebra II               2321\n",
      "Regents NF Global History                    2198\n",
      "Regents Phy Set/Physics                      1964\n",
      "Name: count, dtype: int64\n",
      " \n"
     ]
    }
   ],
   "source": [
    "print(df_y.loc[df_y.ENTITY_CD%10000 != 0].SUBJECT.value_counts(), sep=\"\\n\", end=\"\\n \\n\")"
   ]
  },
  {
   "cell_type": "code",
   "execution_count": 44,
   "metadata": {},
   "outputs": [
    {
     "name": "stdout",
     "output_type": "stream",
     "text": [
      "<class 'pandas.core.frame.DataFrame'>\n",
      "RangeIndex: 65534 entries, 0 to 65533\n",
      "Data columns (total 25 columns):\n",
      " #   Column            Non-Null Count  Dtype  \n",
      "---  ------            --------------  -----  \n",
      " 0   INSTITUTION_ID    61558 non-null  float64\n",
      " 1   ENTITY_CD         65534 non-null  int64  \n",
      " 2   ENTITY_NAME       65534 non-null  object \n",
      " 3   YEAR              65534 non-null  int64  \n",
      " 4   SUBJECT           65534 non-null  object \n",
      " 5   SUBGROUP_NAME     65534 non-null  object \n",
      " 6   TESTED            65534 non-null  int64  \n",
      " 7   NUM_LEVEL1        65534 non-null  object \n",
      " 8   PER_LEVEL1        65534 non-null  object \n",
      " 9   NUM_LEVEL2        65534 non-null  object \n",
      " 10  PER_LEVEL2        65534 non-null  object \n",
      " 11  NUM_LEVEL3        65534 non-null  object \n",
      " 12  PER_LEVEL3        65534 non-null  object \n",
      " 13  NUM_LEVEL4        65534 non-null  object \n",
      " 14  PER_LEVEL4        65534 non-null  object \n",
      " 15  NUM_LEVEL5        65534 non-null  object \n",
      " 16  PER_LEVEL5        65534 non-null  object \n",
      " 17  NUM_PROF          65534 non-null  object \n",
      " 18  PER_PROF          65534 non-null  object \n",
      " 19  TOTAL_EXEMPT      43811 non-null  float64\n",
      " 20  NUM_EXEMPT_NTEST  43811 non-null  float64\n",
      " 21  PCT_EXEMPT_NTEST  10444 non-null  float64\n",
      " 22  NUM_EXEMPT_TEST   43811 non-null  float64\n",
      " 23  PCT_EXEMPT_TEST   10444 non-null  float64\n",
      " 24  ASSMNT_FLAG       0 non-null      float64\n",
      "dtypes: float64(7), int64(3), object(15)\n",
      "memory usage: 12.5+ MB\n"
     ]
    }
   ],
   "source": [
    "df_y.info()"
   ]
  }
 ],
 "metadata": {
  "kernelspec": {
   "display_name": "Python 3",
   "language": "python",
   "name": "python3"
  },
  "language_info": {
   "codemirror_mode": {
    "name": "ipython",
    "version": 3
   },
   "file_extension": ".py",
   "mimetype": "text/x-python",
   "name": "python",
   "nbconvert_exporter": "python",
   "pygments_lexer": "ipython3",
   "version": "3.12.0"
  }
 },
 "nbformat": 4,
 "nbformat_minor": 2
}
